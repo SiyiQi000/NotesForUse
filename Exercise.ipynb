{
 "cells": [
  {
   "cell_type": "code",
   "execution_count": 23,
   "id": "720e5a48",
   "metadata": {},
   "outputs": [],
   "source": [
    "import matplotlib.pyplot as plt\n",
    "import numpy as np\n",
    "import pandas as pd\n",
    "import requests\n",
    "import seaborn as sns"
   ]
  },
  {
   "cell_type": "code",
   "execution_count": 24,
   "id": "40b855dd",
   "metadata": {},
   "outputs": [],
   "source": [
    "import itertools\n",
    "import matplotlib.gridspec as gridspec\n",
    "import warnings\n",
    "\n",
    "from sklearn import datasets\n",
    "from sklearn.tree import DecisionTreeClassifier\n",
    "from sklearn.neighbors import KNeighborsClassifier\n",
    "from sklearn.ensemble import BaggingClassifier\n",
    "from sklearn.linear_model import Perceptron\n",
    "from sklearn.model_selection import cross_val_score,train_test_split\n",
    "from sklearn.linear_model import LogisticRegression\n",
    "from sklearn.metrics import accuracy_score\n",
    "\n",
    "from sklearn.exceptions import ConvergenceWarning\n",
    "warnings.filterwarnings(action='ignore', category=ConvergenceWarning)\n",
    "\n",
    "#stacking利器：\n",
    "#绘制学习曲线\n",
    "from mlxtend.plotting import plot_learning_curves\n",
    "#画出logistic模型决策边界\n",
    "from mlxtend.plotting import plot_decision_regions\n",
    "%matplotlib inline"
   ]
  },
  {
   "cell_type": "code",
   "execution_count": 25,
   "id": "c7ddf10d",
   "metadata": {},
   "outputs": [],
   "source": [
    "tips = sns.load_dataset(\"tips\")"
   ]
  },
  {
   "cell_type": "code",
   "execution_count": 26,
   "id": "8a8cd152",
   "metadata": {},
   "outputs": [],
   "source": [
    "cols = ['tip','total_bill', 'sex', 'smoker', 'day', 'time','size']\n",
    "tips_sub = pd.get_dummies(tips[cols].dropna(), drop_first=True)\n",
    "\n",
    "X = tips_sub.drop('tip', axis=1)\n",
    "y = tips_sub.tip"
   ]
  },
  {
   "cell_type": "code",
   "execution_count": 27,
   "id": "f601dce2",
   "metadata": {},
   "outputs": [
    {
     "data": {
      "text/html": [
       "<div>\n",
       "<style scoped>\n",
       "    .dataframe tbody tr th:only-of-type {\n",
       "        vertical-align: middle;\n",
       "    }\n",
       "\n",
       "    .dataframe tbody tr th {\n",
       "        vertical-align: top;\n",
       "    }\n",
       "\n",
       "    .dataframe thead th {\n",
       "        text-align: right;\n",
       "    }\n",
       "</style>\n",
       "<table border=\"1\" class=\"dataframe\">\n",
       "  <thead>\n",
       "    <tr style=\"text-align: right;\">\n",
       "      <th></th>\n",
       "      <th>tip</th>\n",
       "      <th>total_bill</th>\n",
       "      <th>size</th>\n",
       "      <th>sex_Female</th>\n",
       "      <th>smoker_No</th>\n",
       "      <th>day_Fri</th>\n",
       "      <th>day_Sat</th>\n",
       "      <th>day_Sun</th>\n",
       "      <th>time_Dinner</th>\n",
       "    </tr>\n",
       "  </thead>\n",
       "  <tbody>\n",
       "    <tr>\n",
       "      <th>0</th>\n",
       "      <td>1.01</td>\n",
       "      <td>16.99</td>\n",
       "      <td>2</td>\n",
       "      <td>1</td>\n",
       "      <td>1</td>\n",
       "      <td>0</td>\n",
       "      <td>0</td>\n",
       "      <td>1</td>\n",
       "      <td>1</td>\n",
       "    </tr>\n",
       "    <tr>\n",
       "      <th>1</th>\n",
       "      <td>1.66</td>\n",
       "      <td>10.34</td>\n",
       "      <td>3</td>\n",
       "      <td>0</td>\n",
       "      <td>1</td>\n",
       "      <td>0</td>\n",
       "      <td>0</td>\n",
       "      <td>1</td>\n",
       "      <td>1</td>\n",
       "    </tr>\n",
       "    <tr>\n",
       "      <th>2</th>\n",
       "      <td>3.50</td>\n",
       "      <td>21.01</td>\n",
       "      <td>3</td>\n",
       "      <td>0</td>\n",
       "      <td>1</td>\n",
       "      <td>0</td>\n",
       "      <td>0</td>\n",
       "      <td>1</td>\n",
       "      <td>1</td>\n",
       "    </tr>\n",
       "    <tr>\n",
       "      <th>3</th>\n",
       "      <td>3.31</td>\n",
       "      <td>23.68</td>\n",
       "      <td>2</td>\n",
       "      <td>0</td>\n",
       "      <td>1</td>\n",
       "      <td>0</td>\n",
       "      <td>0</td>\n",
       "      <td>1</td>\n",
       "      <td>1</td>\n",
       "    </tr>\n",
       "    <tr>\n",
       "      <th>4</th>\n",
       "      <td>3.61</td>\n",
       "      <td>24.59</td>\n",
       "      <td>4</td>\n",
       "      <td>1</td>\n",
       "      <td>1</td>\n",
       "      <td>0</td>\n",
       "      <td>0</td>\n",
       "      <td>1</td>\n",
       "      <td>1</td>\n",
       "    </tr>\n",
       "    <tr>\n",
       "      <th>...</th>\n",
       "      <td>...</td>\n",
       "      <td>...</td>\n",
       "      <td>...</td>\n",
       "      <td>...</td>\n",
       "      <td>...</td>\n",
       "      <td>...</td>\n",
       "      <td>...</td>\n",
       "      <td>...</td>\n",
       "      <td>...</td>\n",
       "    </tr>\n",
       "    <tr>\n",
       "      <th>239</th>\n",
       "      <td>5.92</td>\n",
       "      <td>29.03</td>\n",
       "      <td>3</td>\n",
       "      <td>0</td>\n",
       "      <td>1</td>\n",
       "      <td>0</td>\n",
       "      <td>1</td>\n",
       "      <td>0</td>\n",
       "      <td>1</td>\n",
       "    </tr>\n",
       "    <tr>\n",
       "      <th>240</th>\n",
       "      <td>2.00</td>\n",
       "      <td>27.18</td>\n",
       "      <td>2</td>\n",
       "      <td>1</td>\n",
       "      <td>0</td>\n",
       "      <td>0</td>\n",
       "      <td>1</td>\n",
       "      <td>0</td>\n",
       "      <td>1</td>\n",
       "    </tr>\n",
       "    <tr>\n",
       "      <th>241</th>\n",
       "      <td>2.00</td>\n",
       "      <td>22.67</td>\n",
       "      <td>2</td>\n",
       "      <td>0</td>\n",
       "      <td>0</td>\n",
       "      <td>0</td>\n",
       "      <td>1</td>\n",
       "      <td>0</td>\n",
       "      <td>1</td>\n",
       "    </tr>\n",
       "    <tr>\n",
       "      <th>242</th>\n",
       "      <td>1.75</td>\n",
       "      <td>17.82</td>\n",
       "      <td>2</td>\n",
       "      <td>0</td>\n",
       "      <td>1</td>\n",
       "      <td>0</td>\n",
       "      <td>1</td>\n",
       "      <td>0</td>\n",
       "      <td>1</td>\n",
       "    </tr>\n",
       "    <tr>\n",
       "      <th>243</th>\n",
       "      <td>3.00</td>\n",
       "      <td>18.78</td>\n",
       "      <td>2</td>\n",
       "      <td>1</td>\n",
       "      <td>1</td>\n",
       "      <td>0</td>\n",
       "      <td>0</td>\n",
       "      <td>0</td>\n",
       "      <td>1</td>\n",
       "    </tr>\n",
       "  </tbody>\n",
       "</table>\n",
       "<p>244 rows × 9 columns</p>\n",
       "</div>"
      ],
      "text/plain": [
       "      tip  total_bill  size  sex_Female  smoker_No  day_Fri  day_Sat  day_Sun  \\\n",
       "0    1.01       16.99     2           1          1        0        0        1   \n",
       "1    1.66       10.34     3           0          1        0        0        1   \n",
       "2    3.50       21.01     3           0          1        0        0        1   \n",
       "3    3.31       23.68     2           0          1        0        0        1   \n",
       "4    3.61       24.59     4           1          1        0        0        1   \n",
       "..    ...         ...   ...         ...        ...      ...      ...      ...   \n",
       "239  5.92       29.03     3           0          1        0        1        0   \n",
       "240  2.00       27.18     2           1          0        0        1        0   \n",
       "241  2.00       22.67     2           0          0        0        1        0   \n",
       "242  1.75       17.82     2           0          1        0        1        0   \n",
       "243  3.00       18.78     2           1          1        0        0        0   \n",
       "\n",
       "     time_Dinner  \n",
       "0              1  \n",
       "1              1  \n",
       "2              1  \n",
       "3              1  \n",
       "4              1  \n",
       "..           ...  \n",
       "239            1  \n",
       "240            1  \n",
       "241            1  \n",
       "242            1  \n",
       "243            1  \n",
       "\n",
       "[244 rows x 9 columns]"
      ]
     },
     "execution_count": 27,
     "metadata": {},
     "output_type": "execute_result"
    }
   ],
   "source": [
    "tips_sub"
   ]
  },
  {
   "cell_type": "code",
   "execution_count": 28,
   "id": "34f9292a",
   "metadata": {},
   "outputs": [],
   "source": [
    "X_train, X_test, y_train, y_test = train_test_split(X, y, test_size=0.5, random_state=11193) # test的数量占总体的0.2"
   ]
  },
  {
   "cell_type": "code",
   "execution_count": 29,
   "id": "91abacea",
   "metadata": {
    "scrolled": false
   },
   "outputs": [
    {
     "name": "stdout",
     "output_type": "stream",
     "text": [
      "     total_bill  size  sex_Female  smoker_No  day_Fri  day_Sat  day_Sun  \\\n",
      "35        24.06     3           0          1        0        1        0   \n",
      "128       11.38     2           1          1        0        0        0   \n",
      "37        16.93     3           1          1        0        1        0   \n",
      "174       16.82     2           0          0        0        0        1   \n",
      "5         25.29     4           0          1        0        0        1   \n",
      "..          ...   ...         ...        ...      ...      ...      ...   \n",
      "162       16.21     3           1          1        0        0        1   \n",
      "33        20.69     4           1          1        0        1        0   \n",
      "209       12.76     2           1          0        0        1        0   \n",
      "4         24.59     4           1          1        0        0        1   \n",
      "145        8.35     2           1          1        0        0        0   \n",
      "\n",
      "     time_Dinner  \n",
      "35             1  \n",
      "128            0  \n",
      "37             1  \n",
      "174            1  \n",
      "5              1  \n",
      "..           ...  \n",
      "162            1  \n",
      "33             1  \n",
      "209            1  \n",
      "4              1  \n",
      "145            0  \n",
      "\n",
      "[122 rows x 8 columns]\n"
     ]
    }
   ],
   "source": [
    "print(X_train)"
   ]
  },
  {
   "cell_type": "code",
   "execution_count": 30,
   "id": "661ce784",
   "metadata": {},
   "outputs": [],
   "source": [
    "\n",
    "from sklearn.preprocessing import StandardScaler\n",
    "sc = StandardScaler()\n",
    "X_train = sc.fit_transform(X_train)\n",
    "X_test = sc.transform(X_test)\n"
   ]
  },
  {
   "cell_type": "code",
   "execution_count": 33,
   "id": "c043d118",
   "metadata": {
    "scrolled": false
   },
   "outputs": [
    {
     "data": {
      "text/plain": [
       "'\\n# scale y\\ny_train_copy = y_train\\n\\ndef y_scaler(y):\\n    y_stdev = np.std(y_train_copy)\\n    y_mean = np.mean(y_train_copy)\\n    y_new = (y - y_mean)/y_stdev # 把y也scale了\\n    \\n    return y_new\\n\\n\\ny_train = y_scaler(y_train)\\ny_test = y_scaler(y_test)\\nprint(y_train)\\nprint(y_test)\\n'"
      ]
     },
     "execution_count": 33,
     "metadata": {},
     "output_type": "execute_result"
    }
   ],
   "source": [
    "'''\n",
    "# scale y\n",
    "y_train_copy = y_train\n",
    "\n",
    "def y_scaler(y):\n",
    "    y_stdev = np.std(y_train_copy)\n",
    "    y_mean = np.mean(y_train_copy)\n",
    "    y_new = (y - y_mean)/y_stdev # 把y也scale了\n",
    "    \n",
    "    return y_new\n",
    "\n",
    "\n",
    "y_train = y_scaler(y_train)\n",
    "y_test = y_scaler(y_test)\n",
    "print(y_train)\n",
    "print(y_test)\n",
    "'''"
   ]
  },
  {
   "cell_type": "code",
   "execution_count": 34,
   "id": "eb4e5977",
   "metadata": {},
   "outputs": [
    {
     "name": "stdout",
     "output_type": "stream",
     "text": [
      "35     3.567333\n",
      "128    1.997038\n",
      "37     3.007530\n",
      "174    4.036641\n",
      "5      4.707259\n",
      "         ...   \n",
      "162    1.968021\n",
      "33     2.388841\n",
      "209    2.208783\n",
      "4      3.584120\n",
      "145    1.493897\n",
      "Name: tip, Length: 122, dtype: float64\n",
      "\n",
      "1.2182478847014946\n"
     ]
    }
   ],
   "source": [
    "w_ = np.random.normal(loc = 0, scale = 0.01, size = X_train.shape[1]+1)\n",
    "# X_train[:,0] = 1  # 3排的矩阵，第一列全是1\n",
    "# X_test[:,0] = 1  # 3排的矩阵，第一列全是1\n",
    "e_ = y_train-(w_[0] + X_train.dot(w_[1:]))\n",
    "lRMSE = np.log(np.sqrt((e_**2).mean())) # log MSE\n",
    "\n",
    "print(e_)\n",
    "print()\n",
    "print(lRMSE)"
   ]
  },
  {
   "cell_type": "code",
   "execution_count": 35,
   "id": "aa6f603e",
   "metadata": {},
   "outputs": [
    {
     "name": "stdout",
     "output_type": "stream",
     "text": [
      "[0. 0. 0. 0. 0. 0. 0. 0. 0.]\n"
     ]
    }
   ],
   "source": [
    "w = np.zeros(1+X_train.shape[1])\n",
    "w_ = w\n",
    "print(w_)"
   ]
  },
  {
   "cell_type": "code",
   "execution_count": 36,
   "id": "2ebcd9a5",
   "metadata": {},
   "outputs": [],
   "source": [
    "def net_input(X_, w_):    \n",
    "    return np.dot(X_, w_[1:]) + w_[0] \n",
    "\n",
    "def compute_error(y_, X_, w_):\n",
    "    return y_ - net_input(X_, w_)"
   ]
  },
  {
   "cell_type": "code",
   "execution_count": 37,
   "id": "618fd6eb",
   "metadata": {},
   "outputs": [],
   "source": [
    "def update_weights(y_,X_,w_):\n",
    "    eta = 0.001\n",
    "    n_iter = 51\n",
    "    w_list = []\n",
    "    \n",
    "    for i in range(n_iter):\n",
    "        w_list.append(w_)\n",
    "        w_[1:] += eta*X_train.T.dot(compute_error(y_train, X_train, w_))\n",
    "        w_[0] += eta*compute_error(y_train,X_train,w_).sum()\n",
    "        \n",
    "        e_ = compute_error(y_train,X_train,w_)\n",
    "    \n",
    "    return w_"
   ]
  },
  {
   "cell_type": "code",
   "execution_count": 38,
   "id": "e170c906",
   "metadata": {
    "scrolled": true
   },
   "outputs": [
    {
     "data": {
      "text/plain": [
       "\"\\neta = 0.1**6 # learning rate\\ncounter = 0\\nd_e = np.inf\\n\\nlRMSE_list = []\\nw_list = []\\n\\nwhile d_e>0.1**9:\\n    w_ = w_ + eta*X_train.T.dot(e_)\\n    e_ = y_train -(X_train.dot(w_)) \\n    \\n    d_e = lRMSE-np.log(np.sqrt((e_**2).mean()))\\n    counter = counter+1\\n    \\n    lRMSE = np.log(np.sqrt((e_**2).mean()))\\n    lRMSE_list.append(lRMSE)\\n\\n    w_list.append(w_)\\n    \\n\\n\\ndf = pd.concat([pd.DataFrame(lRMSE_list)], axis=1)\\ndf.columns = ['lRMSE']\\nf,ax = plt.subplots(1,2, figsize=(10,4))\\nax[0].plot(lRMSE_list, 'b-') \\nax[0].plot(w_list, 'r-') \\n\\n\""
      ]
     },
     "execution_count": 38,
     "metadata": {},
     "output_type": "execute_result"
    }
   ],
   "source": [
    "\n",
    "'''\n",
    "eta = 0.1**6 # learning rate\n",
    "counter = 0\n",
    "d_e = np.inf\n",
    "\n",
    "lRMSE_list = []\n",
    "w_list = []\n",
    "\n",
    "while d_e>0.1**9:\n",
    "    w_ = w_ + eta*X_train.T.dot(e_)\n",
    "    e_ = y_train -(X_train.dot(w_)) \n",
    "    \n",
    "    d_e = lRMSE-np.log(np.sqrt((e_**2).mean()))\n",
    "    counter = counter+1\n",
    "    \n",
    "    lRMSE = np.log(np.sqrt((e_**2).mean()))\n",
    "    lRMSE_list.append(lRMSE)\n",
    "\n",
    "    w_list.append(w_)\n",
    "    \n",
    "\n",
    "\n",
    "df = pd.concat([pd.DataFrame(lRMSE_list)], axis=1)\n",
    "df.columns = ['lRMSE']\n",
    "f,ax = plt.subplots(1,2, figsize=(10,4))\n",
    "ax[0].plot(lRMSE_list, 'b-') \n",
    "ax[0].plot(w_list, 'r-') \n",
    "\n",
    "'''"
   ]
  },
  {
   "cell_type": "code",
   "execution_count": 39,
   "id": "c3151b2a",
   "metadata": {},
   "outputs": [],
   "source": [
    "from sklearn.linear_model import LinearRegression\n",
    "reg = LinearRegression()\n",
    "reg.fit(X_train, y_train)\n",
    "assert((w[1:] - reg.coef_).sum() < 0.01)"
   ]
  },
  {
   "cell_type": "code",
   "execution_count": 40,
   "id": "08d7f315",
   "metadata": {},
   "outputs": [
    {
     "data": {
      "text/plain": [
       "<AxesSubplot:>"
      ]
     },
     "execution_count": 40,
     "metadata": {},
     "output_type": "execute_result"
    },
    {
     "data": {
      "image/png": "[encoded data removed]",
      "text/plain": [
       "<Figure size 432x288 with 1 Axes>"
      ]
     },
     "metadata": {
      "needs_background": "light"
     },
     "output_type": "display_data"
    }
   ],
   "source": [
    "### BEGIN SOLUTION\n",
    "def MSE(y_,X_,w_):\n",
    "    return (compute_error(y_, X_, w_)**2).mean()\n",
    "    \n",
    "w = np.zeros(1+X_train.shape[1])\n",
    "\n",
    "MSE_train = [MSE(y_train, X_train, w)]\n",
    "MSE_test = [MSE(y_test, X_test, w)]\n",
    "\n",
    "for i in range(100):\n",
    "    w = update_weights(y_train, X_train, w)\n",
    "    MSE_train.append(MSE(y_train, X_train, w))\n",
    "    MSE_test.append(MSE(y_test, X_test, w))\n",
    "### END SOLUTION\n",
    "\n",
    "pd.Series(MSE_train).plot()\n",
    "pd.Series(MSE_test).plot()"
   ]
  },
  {
   "cell_type": "code",
   "execution_count": null,
   "id": "d6cb0f1e",
   "metadata": {},
   "outputs": [],
   "source": []
  }
 ],
 "metadata": {
  "kernelspec": {
   "display_name": "Python 3 (ipykernel)",
   "language": "python",
   "name": "python3"
  },
  "language_info": {
   "codemirror_mode": {
    "name": "ipython",
    "version": 3
   },
   "file_extension": ".py",
   "mimetype": "text/x-python",
   "name": "python",
   "nbconvert_exporter": "python",
   "pygments_lexer": "ipython3",
   "version": "3.9.7"
  }
 },
 "nbformat": 4,
 "nbformat_minor": 5
}
