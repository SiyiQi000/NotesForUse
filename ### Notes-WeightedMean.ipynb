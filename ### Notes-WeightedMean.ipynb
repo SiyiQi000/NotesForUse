{
 "cells": [
  {
   "cell_type": "code",
   "execution_count": 1,
   "id": "419ae79c",
   "metadata": {},
   "outputs": [],
   "source": [
    "import numpy as np                                     # Matlab like syntax for linear algebra and functions\n",
    "import matplotlib.pyplot as plt                        # Plots and figures like you know them from Matlab\n",
    "import seaborn as sns                                  # Make the plots nicer to look at\n",
    "from iminuit import Minuit                             # The actual fitting tool, better than scipy's\n",
    "import sys                                             # Module to see files and folders in directories\n",
    "from scipy import stats\n",
    "from scipy import optimize"
   ]
  },
  {
   "cell_type": "code",
   "execution_count": 2,
   "id": "86a7bbe0",
   "metadata": {},
   "outputs": [],
   "source": [
    "sys.path.append('D:\\my github\\Siyi Applied Stats\\Documents for JN\\AppStat2021-main\\External_Functions\\\\')\n",
    "from ExternalFunctions import Chi2Regression\n",
    "from ExternalFunctions import nice_string_output, add_text_to_ax # useful functions to print fit results on figure"
   ]
  },
  {
   "cell_type": "code",
   "execution_count": 5,
   "id": "663ba694",
   "metadata": {},
   "outputs": [
    {
     "name": "stdout",
     "output_type": "stream",
     "text": [
      "0.0007093009696434032\n",
      "3.279717681973391e-05\n"
     ]
    }
   ],
   "source": [
    "L1 = [0.000704,0.0007215,0.0007089]   # values\n",
    "sigma_L1 = [0.000048,0.000071,0.000058]   # errors\n",
    "n = 3   # number of values/errors\n",
    "L_sum_up = np.zeros_like(L1)\n",
    "L_sum_down = np.zeros_like(L1)\n",
    "weighted_mean = float\n",
    "weighted_sigma = float\n",
    "for i in range(0,n): \n",
    "    L_sum_up[i] = L1[i]/((sigma_L1[i])**2)\n",
    "    L_sum_down[i] = 1/((sigma_L1[i])**2)\n",
    "\n",
    "weighted_mean = np.sum(L_sum_up)/np.sum(L_sum_down)\n",
    "print(weighted_mean)\n",
    "weighted_sigma = np.sqrt(1/(np.sum(L_sum_down)))\n",
    "print(weighted_sigma)"
   ]
  }
 ],
 "metadata": {
  "kernelspec": {
   "display_name": "Python 3 (ipykernel)",
   "language": "python",
   "name": "python3"
  },
  "language_info": {
   "codemirror_mode": {
    "name": "ipython",
    "version": 3
   },
   "file_extension": ".py",
   "mimetype": "text/x-python",
   "name": "python",
   "nbconvert_exporter": "python",
   "pygments_lexer": "ipython3",
   "version": "3.9.7"
  }
 },
 "nbformat": 4,
 "nbformat_minor": 5
}
