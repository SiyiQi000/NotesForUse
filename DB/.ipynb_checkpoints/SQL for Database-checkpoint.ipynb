{
 "cells": [
  {
   "cell_type": "markdown",
   "id": "68a7fe07",
   "metadata": {},
   "source": [
    "#### DML: COUNT, DISTINCT, LIMIT"
   ]
  },
  {
   "cell_type": "markdown",
   "id": "5aa6b687",
   "metadata": {},
   "source": [
    "Retrieve the number of distributors distinctly who distributed films acted by Clint Eastwood as 1st actor.</p>\n",
    "`SELECT COUNT(DISTINCT Distributor) FROM FilmLocations WHERE Actor1=\"Clint Eastwood\";`"
   ]
  },
  {
   "cell_type": "markdown",
   "id": "61d27dee",
   "metadata": {},
   "source": [
    "跳过第一项</p>\n",
    "`SELECT * FROM FilmLocations LIMIT 3 OFFSET 1;`"
   ]
  },
  {
   "cell_type": "markdown",
   "id": "7c6e6d53",
   "metadata": {},
   "source": [
    "#### DML: INSERT, UPDATE, DELETE"
   ]
  },
  {
   "cell_type": "markdown",
   "id": "d64e87b0",
   "metadata": {},
   "source": [
    "`INSERT INTO Instructor(ins_id, lastname, firstname, city, country)\n",
    "VALUES (5, 'John', 'Doe', 'Sydney', 'AU'),(6, 'Jane', 'Doe', 'Dhaka', 'BD');\n",
    "`"
   ]
  },
  {
   "cell_type": "markdown",
   "id": "513e7c79",
   "metadata": {},
   "source": [
    "`UPDATE Instructor \n",
    "SET city='Dubai' ,country='AE'\n",
    "WHERE ins_id=\"5\";`"
   ]
  },
  {
   "cell_type": "markdown",
   "id": "bd6c2e43",
   "metadata": {},
   "source": [
    "`DELETE FROM instructor\n",
    "WHERE firstname = 'Hima';`"
   ]
  },
  {
   "cell_type": "markdown",
   "id": "0b7a53a2",
   "metadata": {},
   "source": [
    "#### DDL: CREATE, INSERT, ALTER, UPDATE, TRUNCATE, DROP"
   ]
  },
  {
   "cell_type": "markdown",
   "id": "0edf10d6",
   "metadata": {},
   "source": [
    "`CREATE TABLE PETSALE (\n",
    "    ID INTEGER NOT NULL,\n",
    "    PET CHAR(20),\n",
    "    SALEPRICE DECIMAL(6,2),\n",
    "    PROFIT DECIMAL(6,2),\n",
    "    SALEDATE DATE\n",
    "    );`\n",
    "    \n",
    "`CREATE TABLE PET (\n",
    "    ID INTEGER NOT NULL,\n",
    "    ANIMAL VARCHAR(20),\n",
    "    QUANTITY INTEGER\n",
    "    );`\n",
    "    \n",
    "`INSERT INTO PETSALE VALUES\n",
    "    (1,'Cat',450.09,100.47,'2018-05-29'),\n",
    "    (2,'Dog',666.66,150.76,'2018-06-01'),\n",
    "    (3,'Parrot',50.00,8.9,'2018-06-04'),\n",
    "    (4,'Hamster',60.60,12,'2018-06-11'),\n",
    "    (5,'Goldfish',48.48,3.5,'2018-06-14');`\n",
    "    \n",
    "`INSERT INTO PET VALUES\n",
    "    (1,'Cat',3),\n",
    "    (2,'Dog',4),\n",
    "    (3,'Hamster',2);`\n",
    "\n",
    "`ALTER TABLE PETSALE\n",
    "ADD COLUMN QUANTITY INTEGER;`\n",
    "\n",
    "`UPDATE PETSALE SET QUANTITY = 9 WHERE ID = 1;\n",
    "UPDATE PETSALE SET QUANTITY = 3 WHERE ID = 2;\n",
    "UPDATE PETSALE SET QUANTITY = 2 WHERE ID = 3;\n",
    "UPDATE PETSALE SET QUANTITY = 6 WHERE ID = 4;\n",
    "UPDATE PETSALE SET QUANTITY = 24 WHERE ID = 5;`   \n",
    "\n",
    "`ALTER TABLE PETSALE\n",
    "DROP COLUMN PROFIT;`\n",
    "\n",
    "`ALTER TABLE PETSALE\n",
    "ALTER COLUMN PET SET DATA TYPE VARCHAR(20);`\n",
    "\n",
    "`ALTER TABLE PETSALE\n",
    "RENAME COLUMN PET TO ANIMAL;`\n",
    "\n",
    "`TRUNCATE TABLE PET IMMEDIATE;`\n",
    "\n",
    "`DROP TABLE PET;`\n"
   ]
  },
  {
   "cell_type": "markdown",
   "id": "587c31e0",
   "metadata": {},
   "source": [
    "####  GROUP BY, HAVING, ORDER BY"
   ]
  },
  {
   "cell_type": "markdown",
   "id": "0d441cb9",
   "metadata": {},
   "source": [
    "use foreign key to select</P>\n",
    "`SELECT D.DEP_NAME , E.F_NAME, E.L_NAME\n",
    "FROM EMPLOYEES as E, DEPARTMENTS as D\n",
    "WHERE E.DEP_ID = D.DEPT_ID_DEP\n",
    "ORDER BY D.DEP_NAME, E.L_NAME DESC;`"
   ]
  },
  {
   "cell_type": "markdown",
   "id": "7dcff7a3",
   "metadata": {},
   "source": [
    "`SELECT DEP_ID, COUNT(*) AS \"NUM_EMPLOYEES\", AVG(SALARY) AS \"AVG_SALARY\"\n",
    "FROM EMPLOYEES\n",
    "GROUP BY DEP_ID\n",
    "HAVING COUNT(*) < 4\n",
    "ORDER BY AVG_SALARY;`"
   ]
  },
  {
   "cell_type": "markdown",
   "id": "e28acb79",
   "metadata": {},
   "source": [
    "#### sub-queries, nested selection and multiple tables (alias)"
   ]
  },
  {
   "cell_type": "markdown",
   "id": "7c2e97b2",
   "metadata": {},
   "source": [
    "`select JOB_TITLE, MIN_SALARY,MAX_SALARY,JOB_IDENT \n",
    "from jobs \n",
    "where JOB_IDENT IN \n",
    "(select JOB_ID from employees where SALARY > 70000 );`"
   ]
  },
  {
   "cell_type": "markdown",
   "id": "4017731c",
   "metadata": {},
   "source": [
    "implicit join</p>\n",
    "`select E.EMP_ID,E.F_NAME,E.L_NAME, J.JOB_TITLE \n",
    "from employees E, jobs J where E.JOB_ID = J.JOB_IDENT;`"
   ]
  },
  {
   "cell_type": "markdown",
   "id": "1d7124ca",
   "metadata": {},
   "source": [
    "explicit join</p>\n",
    "`select * from\n",
    "table a inner join table b on a.id = b.id;`"
   ]
  },
  {
   "cell_type": "markdown",
   "id": "430272a0",
   "metadata": {},
   "source": [
    "#### python connecting to db2"
   ]
  },
  {
   "cell_type": "markdown",
   "id": "bb32ac73",
   "metadata": {},
   "source": [
    "`%load_ext sql\n",
    "%sql ibm_db_sa://xcx21383:obn6EJZ71vblyuAF@98538591-7217-4024-b027-8baa776ffad1.c3n41cmd0nqnrk39u98g.databases.appdomain.cloud:30875/BLUDB?security=SSL`"
   ]
  },
  {
   "cell_type": "markdown",
   "id": "db01eb82",
   "metadata": {},
   "source": [
    "#### show a list of tables in database"
   ]
  },
  {
   "cell_type": "markdown",
   "id": "c4c668aa",
   "metadata": {},
   "source": [
    "Get a list of columns in the database:\n",
    "Show tables in table schema: </p>\n",
    "`%sql select * from syscat.tables where tabschema='XCX21383'`\n",
    "\n",
    "To obtain specific column properties:  </p>\n",
    "`%sql select distinct(name),coltype, length from sysibm.syscolumns where tbname = 'DOGS'` </p>\n",
    "or </p>\n",
    "`%sql select colname, typename, length from syscat.columns where tabname = 'DOGS'`"
   ]
  },
  {
   "cell_type": "markdown",
   "id": "9f8d37b5",
   "metadata": {},
   "source": [
    "#### remove%"
   ]
  },
  {
   "cell_type": "markdown",
   "id": "e194ab5c",
   "metadata": {},
   "source": [
    "Remove the '%' sign from the above result set for Average Student Attendance column"
   ]
  },
  {
   "cell_type": "markdown",
   "id": "efebae26",
   "metadata": {},
   "source": [
    "`%sql SELECT Name_of_School, REPLACE(Average_Student_Attendance, '%', '') \\\n",
    "     from CHICAGOPUBLICSCHOOLS \\\n",
    "     order by Average_Student_Attendance \\\n",
    "     fetch first 5 rows only`"
   ]
  },
  {
   "cell_type": "markdown",
   "id": "12023bad",
   "metadata": {},
   "source": [
    "Which Schools have Average Student Attendance lower than 70%?"
   ]
  },
  {
   "cell_type": "markdown",
   "id": "52874ed6",
   "metadata": {},
   "source": [
    "`%sql SELECT Name_of_School, Average_Student_Attendance  \\\n",
    "     from CHICAGOPUBLICSCHOOLS \\\n",
    "     where DECIMAL ( REPLACE(Average_Student_Attendance, '%', '') ) < 70 \\  #这里不知道为什么转成小数\n",
    "     order by Average_Student_Attendance`"
   ]
  },
  {
   "cell_type": "markdown",
   "id": "fbf813ab",
   "metadata": {},
   "source": [
    "#### multiple tables"
   ]
  },
  {
   "cell_type": "markdown",
   "id": "b3fd9b5a",
   "metadata": {},
   "source": [
    "Get the hardship index for the community area which has College Enrollment of 4368"
   ]
  },
  {
   "cell_type": "markdown",
   "id": "01bb2587",
   "metadata": {},
   "source": [
    "`%sql select hardship_index \\\n",
    "   from chicago_socioeconomic_data CD, CHICAGOPUBLICSCHOOLS CPS \\\n",
    "   where CD.ca = CPS.community_area_number \\\n",
    "   and college_enrollment = 4368`"
   ]
  },
  {
   "cell_type": "markdown",
   "id": "4a66d02f",
   "metadata": {},
   "source": [
    "Get the hardship index for the community area which has the school with the highest enrollment."
   ]
  },
  {
   "cell_type": "markdown",
   "id": "b8496d7c",
   "metadata": {},
   "source": [
    "`%sql select ca, community_area_name, hardship_index from chicago_socioeconomic_data \\\n",
    "   where ca in \\\n",
    "   ( select community_area_number from CHICAGOPUBLICSCHOOLS order by college_enrollment desc limit 1 )`"
   ]
  },
  {
   "cell_type": "markdown",
   "id": "00445510",
   "metadata": {},
   "source": [
    "#### Views"
   ]
  },
  {
   "cell_type": "markdown",
   "id": "67fa4592",
   "metadata": {},
   "source": [
    "`CREATE VIEW EMPSALARY AS \n",
    "SELECT EMP_ID, F_NAME, L_NAME, B_DATE, SEX, SALARY\n",
    "FROM EMPLOYEES;`\n",
    "\n",
    "`CREATE OR REPLACE VIEW EMPSALARY  AS \n",
    "SELECT EMP_ID, F_NAME, L_NAME, B_DATE, SEX, JOB_TITLE, MIN_SALARY, MAX_SALARY\n",
    "FROM EMPLOYEES, JOBS\n",
    "WHERE EMPLOYEES.JOB_ID = JOBS.JOB_IDENT;`\n",
    "\n",
    "`DROP VIEW EMPSALARY;`"
   ]
  },
  {
   "cell_type": "markdown",
   "id": "434bfa4d",
   "metadata": {},
   "source": [
    "#### Procedure"
   ]
  },
  {
   "cell_type": "code",
   "execution_count": null,
   "id": "1b0c972b",
   "metadata": {},
   "outputs": [],
   "source": [
    "--#SET TERMINATOR @\n",
    "CREATE PROCEDURE UPDATE_SALEPRICE ( \n",
    "    IN Animal_ID INTEGER, IN Animal_Health VARCHAR(5) )     -- ( { IN/OUT type } { parameter-name } { data-type }, ... )\n",
    "\n",
    "LANGUAGE SQL                                                -- Language used in this routine\n",
    "MODIFIES SQL DATA                                           -- This routine will only write/modify data in the table\n",
    "\n",
    "BEGIN \n",
    "\n",
    "    IF Animal_Health = 'BAD' THEN                           -- Start of conditional statement\n",
    "        UPDATE PETSALE\n",
    "        SET SALEPRICE = SALEPRICE - (SALEPRICE * 0.25)\n",
    "        WHERE ID = Animal_ID;\n",
    "    \n",
    "    ELSEIF Animal_Health = 'WORSE' THEN\n",
    "        UPDATE PETSALE\n",
    "        SET SALEPRICE = SALEPRICE - (SALEPRICE * 0.5)\n",
    "        WHERE ID = Animal_ID;\n",
    "        \n",
    "    ELSE\n",
    "        UPDATE PETSALE\n",
    "        SET SALEPRICE = SALEPRICE\n",
    "        WHERE ID = Animal_ID;\n",
    "\n",
    "    END IF;                                                 -- End of conditional statement\n",
    "    \n",
    "END\n",
    "@                                                           -- Routine termination character"
   ]
  },
  {
   "cell_type": "code",
   "execution_count": null,
   "id": "a589fdea",
   "metadata": {},
   "outputs": [],
   "source": [
    "CALL RETRIEVE_ALL;\n",
    "\n",
    "CALL UPDATE_SALEPRICE(1, 'BAD');        -- Caller query\n",
    "\n",
    "CALL RETRIEVE_ALL;\n",
    "\n",
    "DROP PROCEDURE UPDATE_SALEPRICE;"
   ]
  },
  {
   "cell_type": "markdown",
   "id": "597bab4b",
   "metadata": {},
   "source": [
    "#### Transaction"
   ]
  },
  {
   "cell_type": "code",
   "execution_count": null,
   "id": "8dcad29d",
   "metadata": {},
   "outputs": [],
   "source": [
    "--#SET TERMINATOR @\n",
    "CREATE PROCEDURE TRANSACTION_JAMES                          -- Name of this stored procedure routine\n",
    "\n",
    "LANGUAGE SQL                                                -- Language used in this routine \n",
    "MODIFIES SQL DATA                                           -- This routine will only write/modify data in the table\n",
    "\n",
    "BEGIN\n",
    "\n",
    "        DECLARE SQLCODE INTEGER DEFAULT 0;                  -- Host variable SQLCODE declared and assigned 0\n",
    "        DECLARE retcode INTEGER DEFAULT 0;                  -- Local variable retcode with declared and assigned 0\n",
    "        DECLARE CONTINUE HANDLER FOR SQLEXCEPTION           -- Handler tell the routine what to do when an error or warning occurs\n",
    "        SET retcode = SQLCODE;                              -- Value of SQLCODE assigned to local variable retcode\n",
    "        \n",
    "        UPDATE BankAccounts\n",
    "        SET Balance = Balance-1200\n",
    "        WHERE AccountName = 'James';\n",
    "        \n",
    "        UPDATE BankAccounts\n",
    "        SET Balance = Balance+1200\n",
    "        WHERE AccountName = 'Shoe Shop';\n",
    "        \n",
    "        UPDATE ShoeShop\n",
    "        SET Stock = Stock-4\n",
    "        WHERE Product = 'Trainers';\n",
    "        \n",
    "        UPDATE BankAccounts\n",
    "        SET Balance = Balance-150\n",
    "        WHERE AccountName = 'James';\n",
    "\n",
    "        \n",
    "        IF retcode < 0 THEN                                  --  SQLCODE returns negative value for error, zero for success, positive value for warning\n",
    "            ROLLBACK WORK;\n",
    "        \n",
    "        ELSE\n",
    "            COMMIT WORK;\n",
    "        \n",
    "        END IF;\n",
    "        \n",
    "END\n",
    "@                                                            -- Routine termination character"
   ]
  },
  {
   "cell_type": "code",
   "execution_count": null,
   "id": "eafca07f",
   "metadata": {},
   "outputs": [],
   "source": [
    "CALL TRANSACTION_JAMES;  -- Caller query\n",
    "\n",
    "SELECT * FROM BankAccounts;\n",
    "\n",
    "SELECT * FROM ShoeShop;"
   ]
  },
  {
   "cell_type": "markdown",
   "id": "c3e19d0d",
   "metadata": {},
   "source": [
    "#### INNER JOIN, LEFT/RIGHT OUTER JOIN, FULL OUTER JOIN"
   ]
  },
  {
   "cell_type": "markdown",
   "id": "023135c4",
   "metadata": {},
   "source": [
    "`select E.F_NAME,E.L_NAME, JH.START_DATE, J.JOB_TITLE \n",
    "from EMPLOYEES as E \n",
    "INNER JOIN JOB_HISTORY as JH on E.EMP_ID=JH.EMPL_ID \n",
    "INNER JOIN JOBS as J on E.JOB_ID=J.JOB_IDENT\n",
    "where E.DEP_ID ='5';`"
   ]
  },
  {
   "cell_type": "markdown",
   "id": "ab17a358",
   "metadata": {},
   "source": [
    "`select E.F_NAME,E.L_NAME,D.DEPT_ID_DEP, D.DEP_NAME\n",
    "from EMPLOYEES AS E \n",
    "FULL OUTER JOIN DEPARTMENTS AS D ON E.DEP_ID=D.DEPT_ID_DEP AND E.SEX = 'M';`"
   ]
  }
 ],
 "metadata": {
  "kernelspec": {
   "display_name": "Python 3 (ipykernel)",
   "language": "python",
   "name": "python3"
  },
  "language_info": {
   "codemirror_mode": {
    "name": "ipython",
    "version": 3
   },
   "file_extension": ".py",
   "mimetype": "text/x-python",
   "name": "python",
   "nbconvert_exporter": "python",
   "pygments_lexer": "ipython3",
   "version": "3.9.7"
  }
 },
 "nbformat": 4,
 "nbformat_minor": 5
}
