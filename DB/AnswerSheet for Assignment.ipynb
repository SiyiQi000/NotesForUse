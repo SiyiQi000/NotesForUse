{
 "cells": [
  {
   "cell_type": "code",
   "execution_count": 1,
   "id": "403a32f6",
   "metadata": {},
   "outputs": [],
   "source": [
    "%load_ext sql\n",
    "%sql ibm_db_sa://xcx21383:obn6EJZ71vblyuAF@98538591-7217-4024-b027-8baa776ffad1.c3n41cmd0nqnrk39u98g.databases.appdomain.cloud:30875/BLUDB?security=SSL"
   ]
  },
  {
   "cell_type": "markdown",
   "id": "04c53250",
   "metadata": {},
   "source": [
    "Problem 1: Find the total number of crimes recorded in the CRIME table."
   ]
  },
  {
   "cell_type": "code",
   "execution_count": null,
   "id": "78a0e1cd",
   "metadata": {},
   "outputs": [],
   "source": [
    "%sql select count(*) from CRIME"
   ]
  },
  {
   "cell_type": "markdown",
   "id": "c685666f",
   "metadata": {},
   "source": [
    "Problem 2: List community areas with per capita income less than 11000."
   ]
  },
  {
   "cell_type": "code",
   "execution_count": null,
   "id": "33e5ab3a",
   "metadata": {},
   "outputs": [],
   "source": [
    "%sql select COMMUNITY_AREA_NAME from CENSUS where PER_CAPITA_INCOME < 11000"
   ]
  },
  {
   "cell_type": "markdown",
   "id": "e1f46043",
   "metadata": {},
   "source": [
    "Problem 3: List all case numbers for crimes involving minors?"
   ]
  },
  {
   "cell_type": "code",
   "execution_count": null,
   "id": "cf424b87",
   "metadata": {},
   "outputs": [],
   "source": [
    "%sql select CASE_NUMBER from CRIME where DESCRIPTION like '%MINOR%'"
   ]
  },
  {
   "cell_type": "markdown",
   "id": "795fd48f",
   "metadata": {},
   "source": [
    "Problem 4: List all kidnapping crimes involving a child?(children are not considered minors for the purposes of crime analysis)"
   ]
  },
  {
   "cell_type": "code",
   "execution_count": null,
   "id": "95752e40",
   "metadata": {},
   "outputs": [],
   "source": [
    "%sql select * from CRIME where PRIMARY_TYPE = 'KIDNAPPING'\\\n",
    "    and DESCRIPTION like '%CHILD%'"
   ]
  },
  {
   "cell_type": "markdown",
   "id": "7677203c",
   "metadata": {},
   "source": [
    "Problem 5: What kind of crimes were recorded at schools?"
   ]
  },
  {
   "cell_type": "code",
   "execution_count": null,
   "id": "956be816",
   "metadata": {},
   "outputs": [],
   "source": [
    "%sql select DISTINCT(PRIMARY_TYPE) from CRIME where LOCATION_DESCRIPTION like '%SCHOOL%'"
   ]
  },
  {
   "cell_type": "markdown",
   "id": "4815258b",
   "metadata": {},
   "source": [
    "Problem 6: List the average safety score for all types of schools."
   ]
  },
  {
   "cell_type": "code",
   "execution_count": null,
   "id": "0a76b273",
   "metadata": {},
   "outputs": [],
   "source": [
    "%sql select 'Elementary, Middle, or High School', AVG(SAFETY_SCORE) from SCHOOL group by 'Elementary, Middle, or High School'\n",
    "# it is failed, why?"
   ]
  },
  {
   "cell_type": "markdown",
   "id": "f0ec54e0",
   "metadata": {},
   "source": [
    "Problem 7: List 5 community areas with highest % of households below poverty line."
   ]
  },
  {
   "cell_type": "code",
   "execution_count": null,
   "id": "16f1fe30",
   "metadata": {},
   "outputs": [],
   "source": [
    "%sql select COMMUNITY_AREA_NAME,PERCENT_HOUSEHOLDS_BELOW_POVERTY from CENSUS \\\n",
    "    order by PERCENT_HOUSEHOLDS_BELOW_POVERTY desc\\\n",
    "    fetch first 5 rows only"
   ]
  },
  {
   "cell_type": "markdown",
   "id": "c2770710",
   "metadata": {},
   "source": [
    "Problem 8: Which community area(number) is most crime prone?"
   ]
  },
  {
   "cell_type": "code",
   "execution_count": null,
   "id": "394a4b7d",
   "metadata": {},
   "outputs": [],
   "source": [
    "%sql select COMMUNITY_AREA_NUMBER,count(COMMUNITY_AREA_NUMBER) as CRIME_QUANTITY from CRIME \\\n",
    "    group by COMMUNITY_AREA_NUMBER\\\n",
    "    order by CRIME_QUANTITY desc\\\n",
    "    fetch first 1 row only"
   ]
  },
  {
   "cell_type": "markdown",
   "id": "15113386",
   "metadata": {},
   "source": [
    "Problem 9: Use a sub-query to find the name of the community area with highest hardship index."
   ]
  },
  {
   "cell_type": "code",
   "execution_count": null,
   "id": "cfaf067d",
   "metadata": {},
   "outputs": [],
   "source": [
    "%sql select COMMUNITY_AREA_NAME from CENSUS where HARDSHIP_INDEX = (select MAX(HARDSHIP_INDEX) from CENSUS)"
   ]
  },
  {
   "cell_type": "markdown",
   "id": "1f623ebd",
   "metadata": {},
   "source": [
    "Problem 10: Use a sub-query to determine the Community Area Name with most number of crimes?"
   ]
  },
  {
   "cell_type": "markdown",
   "id": "7572ff25",
   "metadata": {},
   "source": [
    "A main query containing the community area number column in the WHERE clause\n",
    "\n",
    "The query references both the CENSUS_DATA and\n",
    "CHICAGO_CRIME_DATA tables\n",
    "\n",
    "A sub-query in the WHERE clause\n",
    "\n",
    "A GROUP BY clause in the sub-query\n",
    "\n",
    "ORDER BY and DESC clauses in the sub-query\n",
    "\n",
    "LIMIT (or FETCH FIRST 1 ROWS)"
   ]
  },
  {
   "cell_type": "code",
   "execution_count": 22,
   "id": "d5267f07",
   "metadata": {},
   "outputs": [
    {
     "name": "stdout",
     "output_type": "stream",
     "text": [
      " * ibm_db_sa://xcx21383:***@98538591-7217-4024-b027-8baa776ffad1.c3n41cmd0nqnrk39u98g.databases.appdomain.cloud:30875/BLUDB\n",
      "(ibm_db_dbi.ProgrammingError) ibm_db_dbi::ProgrammingError: SQLNumResultCols failed: [IBM][CLI Driver][DB2/LINUXX8664] SQL0104N  An unexpected token \".\" was found following \"Y_AREA_NUMBER) as CR\".  Expected tokens may include:  \",\".  SQLSTATE=42601\\r SQLCODE=-104\n",
      "[SQL: select CE.COMMUNITY_AREA_NAME,CR.COMMUNITY_AREA_NUMBER from CENSUS CE,CRIME CR where (select count(CR.COMMUNITY_AREA_NUMBER) as CR.CRIME_QUANTITY from CRIME group by CR.COMMUNITY_AREA_NUMBER order by CR.CRIME_QUANTITY desc limit 1)]\n",
      "(Background on this error at: http://sqlalche.me/e/13/f405)\n"
     ]
    }
   ],
   "source": [
    "%sql select CE.COMMUNITY_AREA_NAME,CR.COMMUNITY_AREA_NUMBER from CENSUS CE,CRIME CR \\\n",
    "    where (select count(CR.COMMUNITY_AREA_NUMBER) as CR.CRIME_QUANTITY from CRIME\\\n",
    "    group by CR.COMMUNITY_AREA_NUMBER\\\n",
    "    order by CR.CRIME_QUANTITY desc limit 1)"
   ]
  },
  {
   "cell_type": "code",
   "execution_count": 3,
   "id": "9405c929",
   "metadata": {},
   "outputs": [
    {
     "name": "stdout",
     "output_type": "stream",
     "text": [
      " * ibm_db_sa://xcx21383:***@98538591-7217-4024-b027-8baa776ffad1.c3n41cmd0nqnrk39u98g.databases.appdomain.cloud:30875/BLUDB\n",
      "Done.\n"
     ]
    },
    {
     "data": {
      "text/html": [
       "<table>\n",
       "    <tr>\n",
       "        <th>community_area_number</th>\n",
       "        <th>crime_quantity</th>\n",
       "    </tr>\n",
       "    <tr>\n",
       "        <td>25</td>\n",
       "        <td>43</td>\n",
       "    </tr>\n",
       "</table>"
      ],
      "text/plain": [
       "[(25, 43)]"
      ]
     },
     "execution_count": 3,
     "metadata": {},
     "output_type": "execute_result"
    }
   ],
   "source": [
    "%sql select COMMUNITY_AREA_NUMBER,count(COMMUNITY_AREA_NUMBER) as CRIME_QUANTITY from CRIME \\\n",
    "    group by COMMUNITY_AREA_NUMBER\\\n",
    "    order by CRIME_QUANTITY desc limit 1"
   ]
  },
  {
   "cell_type": "code",
   "execution_count": null,
   "id": "70c737e5",
   "metadata": {},
   "outputs": [],
   "source": [
    "%sql select COMMUNITY_AREA_NAME from CENSUS\\\n",
    "    where COMMUNITY_AREA_NUMBER "
   ]
  }
 ],
 "metadata": {
  "kernelspec": {
   "display_name": "Python 3 (ipykernel)",
   "language": "python",
   "name": "python3"
  },
  "language_info": {
   "codemirror_mode": {
    "name": "ipython",
    "version": 3
   },
   "file_extension": ".py",
   "mimetype": "text/x-python",
   "name": "python",
   "nbconvert_exporter": "python",
   "pygments_lexer": "ipython3",
   "version": "3.9.7"
  }
 },
 "nbformat": 4,
 "nbformat_minor": 5
}
