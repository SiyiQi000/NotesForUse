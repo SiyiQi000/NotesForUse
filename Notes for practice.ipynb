{
 "cells": [
  {
   "cell_type": "markdown",
   "id": "1b5721b1",
   "metadata": {},
   "source": [
    "### How to Upload Folders to Jupyter Notebook"
   ]
  },
  {
   "cell_type": "code",
   "execution_count": 1,
   "id": "46c0a4ff",
   "metadata": {},
   "outputs": [],
   "source": [
    "import zipfile\n",
    "\n",
    "import os\n",
    "\n",
    "files = zipfile.ZipFile('AppStat2021-main.zip','r')\n",
    "#'folders name'\n",
    "\n",
    "files.extractall(os.getcwd())"
   ]
  },
  {
   "cell_type": "markdown",
   "id": "7f3352a3",
   "metadata": {},
   "source": [
    "### Format conversion"
   ]
  },
  {
   "cell_type": "markdown",
   "id": "7688dedf",
   "metadata": {},
   "source": [
    "In case you want to export the notebook to a normal python file (.py), you can uncomment the command below (but keep the \"!\") and run the cell. This exports the notebook to a Python file."
   ]
  },
  {
   "cell_type": "code",
   "execution_count": null,
   "id": "48d38d64",
   "metadata": {},
   "outputs": [],
   "source": [
    "!jupyter nbconvert --to script IntroToPlottingAndFitting_original.ipynb"
   ]
  },
  {
   "cell_type": "markdown",
   "id": "f6f4e475",
   "metadata": {},
   "source": [
    "(In the case that you want to convert back from .py to Notebook.ipynb file, run the following command:\n",
    "`jupyter nbconvert --to notebook IntroToPlottingAndFitting.py` in a terminal. In case you want to do it automatically in the Python script, add the line `os.system(\"jupyter nbconvert --to notebook IntroToPlottingAndFitting.py\")`"
   ]
  }
 ],
 "metadata": {
  "kernelspec": {
   "display_name": "Python 3 (ipykernel)",
   "language": "python",
   "name": "python3"
  },
  "language_info": {
   "codemirror_mode": {
    "name": "ipython",
    "version": 3
   },
   "file_extension": ".py",
   "mimetype": "text/x-python",
   "name": "python",
   "nbconvert_exporter": "python",
   "pygments_lexer": "ipython3",
   "version": "3.9.7"
  }
 },
 "nbformat": 4,
 "nbformat_minor": 5
}
