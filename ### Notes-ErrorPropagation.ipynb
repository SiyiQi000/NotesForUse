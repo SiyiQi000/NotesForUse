{
 "cells": [
  {
   "cell_type": "code",
   "execution_count": 31,
   "metadata": {},
   "outputs": [],
   "source": [
    "import numpy as np                                     # Matlab like syntax for linear algebra and functions\n",
    "import matplotlib.pyplot as plt                        # Plots and figures like you know them from Matlab\n",
    "import seaborn as sns                                  # Make the plots nicer to look at\n",
    "from iminuit import Minuit                             # The actual fitting tool, better than scipy's\n",
    "import sys                                             # Module to see files and folders in directories\n",
    "from scipy import stats\n",
    "from scipy import optimize"
   ]
  },
  {
   "cell_type": "code",
   "execution_count": 32,
   "metadata": {},
   "outputs": [],
   "source": [
    "# Defining the parameters:  a = 72.86918 +/- 3.34571, b = 0.38131 +/- 0.00568   1114999.22±38002.3\n",
    "#A(x)\n",
    "mu1   =  533.78118\n",
    "sig1  =  88.23085\n",
    "#E(y)\n",
    "mu2   =  986\n",
    "sig2  =  0\n",
    "#D\n",
    "mu3   =  0\n",
    "sig3  =  0\n",
    "#R\n",
    "mu4   =  0\n",
    "sig4  =  0\n",
    "rho12 =  0.9 "
   ]
  },
  {
   "cell_type": "code",
   "execution_count": 33,
   "metadata": {},
   "outputs": [],
   "source": [
    "if not (-1.0 <= rho12 <= 1.0): \n",
    "    raise ValueError(f\"Correlation factor not in interval [-1,1], as it is {rho12:6.2f}\")"
   ]
  },
  {
   "cell_type": "code",
   "execution_count": 34,
   "metadata": {},
   "outputs": [],
   "source": [
    "from IPython.core.display import Latex\n",
    "\n",
    "def lprint(*args,**kwargs):\n",
    "    display(Latex('$$'+' '.join(args)+'$$'),**kwargs)\n",
    "\n",
    "def myDiff(formula):\n",
    "    return sqrt((formula.diff(A) * dA)**2 + (formula.diff(E) * dE)**2 + (formula.diff(D) * dD)**2 + (formula.diff(R) * dR)**2)\n",
    "\n",
    "def myDiffWithCorr(formula, name = \"\", printNow = False):\n",
    "    dd = sqrt((formula.diff(A) * dA)**2 + 2*(formula.diff(A)*formula.diff(E)*(sigCorr**2)) \n",
    "              + 2*(formula.diff(A)*formula.diff(D)*(sigCorr**2)) + 2*(formula.diff(A)*formula.diff(R)*(sigCorr**2))\n",
    "              + (formula.diff(E) * dE)**2 +  2*(formula.diff(E)*formula.diff(D)*(sigCorr**2)) \n",
    "              + 2*(formula.diff(E)*formula.diff(R)*(sigCorr**2)) + (formula.diff(D) * dD)**2 \n",
    "              + 2*(formula.diff(D)*formula.diff(R)*(sigCorr**2)) + (formula.diff(R) * dR)**2 \n",
    "             )\n",
    "    if(printNow):\n",
    "        lprint(latex(Eq(symbols('sigma_'+name), dd)))\n",
    "    fd = lambdify((A,dA,E,dE,D,dD,R,dR,sigCorr),dd)\n",
    "    return dd, fd\n",
    "    \n",
    "def diff_and_print(formula, name = \"\"):\n",
    "    # Calculate uncertainty and print original relation/formula and the uncertainty\n",
    "    dd = myDiff(formula)\n",
    "    lprint(latex(Eq(symbols(name),formula)))\n",
    "    lprint(latex(Eq(symbols('sigma_'+name), dd)))\n",
    "    \n",
    "def lambdifyFormula(formula, *args, name = \"\"):\n",
    "    # Turn expression into numerical functions \n",
    "    f = lambdify((A,E,D,R),formula)\n",
    "    d = myDiff(formula)\n",
    "    fd = lambdify((A,dA,E,dE,D,dD,R,dR),d)\n",
    "    return f, fd"
   ]
  },
  {
   "cell_type": "code",
   "execution_count": 35,
   "metadata": {
    "scrolled": true
   },
   "outputs": [
    {
     "data": {
      "text/latex": [
       "$$G = - A + E$$"
      ],
      "text/plain": [
       "<IPython.core.display.Latex object>"
      ]
     },
     "metadata": {},
     "output_type": "display_data"
    },
    {
     "data": {
      "text/latex": [
       "$$\\sigma_{G} = \\sqrt{\\sigma_{A}^{2} + \\sigma_{E}^{2}}$$"
      ],
      "text/plain": [
       "<IPython.core.display.Latex object>"
      ]
     },
     "metadata": {},
     "output_type": "display_data"
    },
    {
     "data": {
      "text/latex": [
       "$$\\sigma_{G} = \\sqrt{\\sigma_{A}^{2} - 2 \\sigma_{AEDR}^{2} + \\sigma_{E}^{2}}$$"
      ],
      "text/plain": [
       "<IPython.core.display.Latex object>"
      ]
     },
     "metadata": {},
     "output_type": "display_data"
    },
    {
     "data": {
      "text/latex": [
       "$$G = (452.219 \\pm 88.2309)\\,\\mathrm{m}$$"
      ],
      "text/plain": [
       "<IPython.core.display.Latex object>"
      ]
     },
     "metadata": {},
     "output_type": "display_data"
    }
   ],
   "source": [
    "# Import SymPy: \n",
    "from sympy import * \n",
    "    \n",
    "# Define variables:\n",
    "G,A,E,D,R = symbols(\"G,A,E,D,R\")\n",
    "dG,dA,dE,dD,dR = symbols(\"sigma_G, sigma_A, sigma_E, sigma_D, sigma_R\")\n",
    "\n",
    "# Define relations:\n",
    "# Diagonal\n",
    "G = E-A\n",
    "\n",
    "# Try writing a simple function to not repeat yourself! (See cell above)\n",
    "diff_and_print(G,\"G\")\n",
    "\n",
    "dG = myDiff(G)\n",
    "\n",
    "# Turn expressions into numerical functions \n",
    "fG, fdG = lambdifyFormula(G,\"G\")\n",
    "\n",
    "# Define values and their errors\n",
    "vA, vdA = mu1,sig1\n",
    "vE, vdE = mu2,sig2\n",
    "vD, vdD = mu3,sig3\n",
    "vR, vdR = mu4,sig4\n",
    "\n",
    "# Numerically evaluate expressions and print \n",
    "vG = fG(vA,vE,vD,vR)\n",
    "vdG = fdG(vA,vdA,vE,vdE,vD,vdD,vR,vdR)\n",
    "\n",
    "\n",
    "#Adding correlations (and also derivation, printing and lambdifying)\n",
    "sigCorr = symbols(\"sigma_AEDR\")\n",
    "rho = symbols(\"rho_AEDR\")\n",
    "\n",
    "dG, fdG = myDiffWithCorr(G, \"G\", True)\n",
    "\n",
    "sCorr = sqrt(rho*dA*dE*dD*dR)\n",
    "fSC = lambdify((rho,dA,dE,dD,dR),sCorr)\n",
    "\n",
    "vSigmaCorr = fSC(rho12,vdA,vdE,vdD,vdR)\n",
    "\n",
    "# Numerically evaluate expressions and print \n",
    "vdG = fdG(vA,vdA,vE,vdE,vD,vdD,vR,vdR,vSigmaCorr)\n",
    "\n",
    "lprint(fr'G = ({vG:.3f} \\pm {vdG:.4f})\\,\\mathrm{{m}}')"
   ]
  }
 ],
 "metadata": {
  "executable": "/usr/bin/env python",
  "interpreter": {
   "hash": "dc655ccc9e8d51d5b21869b3b1da48cf7da96399c905d2d73c4cdae40dcf5448"
  },
  "kernelspec": {
   "display_name": "Python 3 (ipykernel)",
   "language": "python",
   "name": "python3"
  },
  "language_info": {
   "codemirror_mode": {
    "name": "ipython",
    "version": 3
   },
   "file_extension": ".py",
   "mimetype": "text/x-python",
   "name": "python",
   "nbconvert_exporter": "python",
   "pygments_lexer": "ipython3",
   "version": "3.9.7"
  }
 },
 "nbformat": 4,
 "nbformat_minor": 4
}
