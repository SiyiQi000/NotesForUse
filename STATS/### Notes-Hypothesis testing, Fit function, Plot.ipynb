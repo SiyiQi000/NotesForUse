{
 "cells": [
  {
   "cell_type": "code",
   "execution_count": 6,
   "id": "c0efc4ac",
   "metadata": {},
   "outputs": [],
   "source": [
    "import scipy\n",
    "import numpy as np                                     # Matlab like syntax for linear algebra and functions\n",
    "import matplotlib.pyplot as plt                        # Plots and figures like you know them from Matlab\n",
    "import seaborn as sns                                  # Make the plots nicer to look at\n",
    "from iminuit import Minuit                             # The actual fitting tool, better than scipy's\n",
    "import sys                                             # Modules to see files and folders in directories\n",
    "from scipy import stats\n",
    "from scipy.stats import binom, poisson, norm           # Functions from SciPy Stats...\n",
    "# import scipy.optimize as optimization\n",
    "from scipy import optimize\n",
    "from numpy.linalg import inv\n",
    "from functools import partial\n",
    "from fitter import Fitter\n",
    "from astropy.modeling import models, fitting\n",
    "from scipy.optimize import leastsq\n",
    "import math"
   ]
  },
  {
   "cell_type": "code",
   "execution_count": 7,
   "id": "33c91456",
   "metadata": {},
   "outputs": [],
   "source": [
    "sys.path.append('D:\\my github\\Siyi Applied Stats\\Documents for JN\\AppStat2021-main\\External_Functions\\\\')\n",
    "from ExternalFunctions import Chi2Regression, BinnedLH, UnbinnedLH\n",
    "from ExternalFunctions import nice_string_output, add_text_to_ax    # Useful functions to print fit results on figure\n",
    "\n",
    "plt.rcParams['font.size'] = 18     # Set some basic plotting parameters"
   ]
  },
  {
   "cell_type": "markdown",
   "id": "b0857b64",
   "metadata": {},
   "source": [
    "### 因为重复运用变量名，每次运行时须：中断内核-清空所有结果-rerun"
   ]
  },
  {
   "cell_type": "markdown",
   "id": "940eafe9",
   "metadata": {},
   "source": [
    "### T-test"
   ]
  },
  {
   "cell_type": "code",
   "execution_count": null,
   "id": "7e321dca",
   "metadata": {},
   "outputs": [],
   "source": [
    "# one-sample test, dof:n-1\n",
    "mean1=550.75   # sample mean\n",
    "s1=4.25   # uncertainty\n",
    "n1=16\n",
    "mean0=550  # compared mean\n",
    "t= (mean1-mean0)/(s1/np.sqrt(n1))\n",
    "dof= n1-1\n",
    "print(t)\n",
    "print(dof)\n",
    "\n",
    "# two-sample test with same variance,dof: n-2\n",
    "mean1=14.95\n",
    "s1= 6.84   # uncertainty1\n",
    "n1=13\n",
    "mean2=22.29\n",
    "s2=5.32   # uncertainty2\n",
    "n2=10\n",
    "sp= np.sqrt(((n1-1)*s1**2+(n2-1)*s2**2)/(n1+n2-2))  # combined estimate variance\n",
    "t= (mean1-mean2)/np.sqrt(sp**2/n1 + sp**2/n2)\n",
    "dof= n1+n2-2\n",
    "print(t)\n",
    "print(dof)\n",
    "\n",
    "# two-sample test with different variance,dof: Welch-Satterhwaite equation\n",
    "mean1=0.0239   \n",
    "s1=0.0005   # uncertainty1\n",
    "n1=103261\n",
    "mean2=0.0188\n",
    "s2=0.0008   # uncertainty2\n",
    "n2=26162\n",
    "t= (mean1-mean2)/np.sqrt(s1**2/n1 + s2**2/n2)\n",
    "dof= (s1**2/n1 + s2**2/n2)**2/((s1**2/n1)**2/(n1-1)+(s2**2/n2)**2/(n2-1))\n",
    "print(t)\n",
    "print(dof)\n",
    "\n",
    "# paired test\n",
    "x1 = [63,65,56,100,88,83,77,92,90,84,68,74,87,64,71,88]\n",
    "x2 = [69,65,62,91,78,87,79,88,85,92,69,81,84,75,84,82]\n",
    "n = 16  # number of x1=x2\n",
    "mean0= 0  # compared mean\n",
    "d = np.zeros(n)  # d=x1-x2\n",
    "for i in range(n):\n",
    "    d[i] = x1[i]-x2[i]\n",
    "mean_d = np.mean(d)\n",
    "s_d = np.std(d,ddof=1)  # if std_sample, add\",ddof=1\".if std_population,delete \",ddof=1\"\n",
    "print(d)\n",
    "print(mean_d,s_d)\n",
    "\n",
    "t= (mean_d-mean0)/(s_d/np.sqrt(n))\n",
    "dof= n-1\n",
    "print(t)\n",
    "print(dof)"
   ]
  },
  {
   "cell_type": "markdown",
   "id": "43dff7c7",
   "metadata": {},
   "source": [
    "### F-test"
   ]
  },
  {
   "cell_type": "code",
   "execution_count": 5,
   "id": "3e6a3aa4",
   "metadata": {},
   "outputs": [
    {
     "name": "stdout",
     "output_type": "stream",
     "text": [
      "1.55\n",
      "10 20\n"
     ]
    }
   ],
   "source": [
    "# f-test\n",
    "s1_square = 31  # variance1\n",
    "n1=11  # number of sample1\n",
    "s2_square = 20  # variance2\n",
    "n2=21  # number of sample2\n",
    "if s1_square > s2_square:\n",
    "    f = s1_square/s2_square\n",
    "else: \n",
    "    f = s2_square/s1_square\n",
    "df1=n1-1\n",
    "df2=n2-1\n",
    "print(f)\n",
    "print(df1,df2)"
   ]
  },
  {
   "cell_type": "markdown",
   "id": "f4099d7e",
   "metadata": {},
   "source": [
    "### Chi-square test"
   ]
  },
  {
   "cell_type": "code",
   "execution_count": null,
   "id": "69b4e0db",
   "metadata": {},
   "outputs": [],
   "source": [
    "# Chi2 test\n",
    "x = [9.54,9.36,10.02,9.87,9.98,9.86,9.86,9.81,9.79]  # x is observed value\n",
    "y = [0.15,0.10,0.11,0.08,0.14,0.06,0.03,0.13,0.04]  # y is observed sigma\n",
    "\n",
    "x1 = np.ones_like(x)*9.824  # x1 is estimated value\n",
    "#y1 = np.ones_like(x)*0.02  # y1 is estimated sigma\n",
    "\n",
    "np.set_printoptions(suppress = True)\n",
    "Npoints = 9  # number of samples\n",
    "sum1 = np.zeros_like(x)\n",
    "chi2 = np.zeros_like(x)\n",
    "sigma2 = np.zeros_like(x)\n",
    "\n",
    "for i in range(0,Npoints):\n",
    "    sum1[i] = (x[i]-x1[i])**2  # sum1 is (observed value-estimated value)**2\n",
    "    \n",
    "for k in range(0,Npoints):\n",
    "    sigma2[k] = (y[k])**2   # sigma2 is (observed sigma)**2\n",
    "    \n",
    "for j in range(0,Npoints):\n",
    "    chi2[j] += sum1[j]/sigma2[j]  # Chi2\n",
    "\n",
    "Chi2_fit = np.sum(chi2)  # calculate Chi2\n",
    "\n",
    "# calculate probability\n",
    "Nvar = 1  # number of fit parameter\n",
    "Ndof_fit = Npoints - Nvar\n",
    "Prob_fit = stats.chi2.sf(Chi2_fit,Ndof_fit)\n",
    "print(\"Chi2:\",Chi2_fit)\n",
    "print(\"nDOF:\",Ndof_fit)\n",
    "print(\"p-value:\",Prob_fit)"
   ]
  },
  {
   "cell_type": "markdown",
   "id": "65c72a53",
   "metadata": {},
   "source": [
    "### Kolmogorov-Smirnov/K-S test \n",
    "以下三种检验需要是连续分布函数。\n",
    "K-S检验统计量用的是经验累积概率与目标理论累积概率之差的最大值，这有点像计算极差。"
   ]
  },
  {
   "cell_type": "code",
   "execution_count": 54,
   "id": "9c1233d8",
   "metadata": {
    "scrolled": false
   },
   "outputs": [
    {
     "name": "stdout",
     "output_type": "stream",
     "text": [
      "KstestResult(statistic=0.01921202617523099, pvalue=0.8470246667462732)\n",
      "KstestResult(statistic=0.622, pvalue=2.5872247709377997e-181)\n"
     ]
    }
   ],
   "source": [
    "# K-S test, one-sample\n",
    "from scipy.stats import kstest\n",
    "import numpy as np\n",
    "\n",
    "x = np.random.normal(0,1,1000)\n",
    "test_stat = kstest(x, 'norm')  # or \"expon\"\n",
    "print(test_stat)\n",
    "\n",
    "# K-S test, two-sample\n",
    "from scipy.stats import ks_2samp\n",
    "import numpy as np\n",
    "\n",
    "beta=np.random.beta(7,5,1000)  # distribution1\n",
    "norm=np.random.normal(0,1,1000)  # distribution2\n",
    "ks_value=ks_2samp(beta,norm)\n",
    "print(ks_value)\n"
   ]
  },
  {
   "cell_type": "markdown",
   "id": "038a5333",
   "metadata": {},
   "source": [
    "### Anderson-Darling test\n",
    "AD检验则把所有的差平方后求和，有点像计算方差。当然计算方差的稳健性(Robustness)要好一些，这可能也是AD检验得到更多应用的原因。"
   ]
  },
  {
   "cell_type": "code",
   "execution_count": 58,
   "id": "64d11ab7",
   "metadata": {},
   "outputs": [
    {
     "name": "stdout",
     "output_type": "stream",
     "text": [
      "AndersonResult(statistic=0.2678463840571794, critical_values=array([0.574, 0.653, 0.784, 0.914, 1.088]), significance_level=array([15. , 10. ,  5. ,  2.5,  1. ]))\n"
     ]
    }
   ],
   "source": [
    "from scipy.stats import anderson\n",
    "import numpy as np\n",
    "\n",
    "x = np.random.normal(0,1,1000)\n",
    "test_stat = anderson(x, 'norm')  # or \"expon\",\"logistic\",\"gumbel\"\n",
    "print(test_stat)  # if statistic value > critical value, then could reject"
   ]
  },
  {
   "cell_type": "markdown",
   "id": "802c1409",
   "metadata": {},
   "source": [
    "### Shapiro-Wilks test\n",
    "SW检验更像是计算相关系数，这个数越接近1，则越有可能正态。"
   ]
  },
  {
   "cell_type": "code",
   "execution_count": 64,
   "id": "126c1ab0",
   "metadata": {},
   "outputs": [
    {
     "name": "stdout",
     "output_type": "stream",
     "text": [
      "stats-value is ：0.966175 p-value is：0.574134\n"
     ]
    }
   ],
   "source": [
    "from scipy.stats import shapiro\n",
    "data = [0.86, 0.78, 0.83, 0.84, 0.77, 0.84, 0.81, 0.84, 0.81, 0.81, 0.80, 0.81,\n",
    "       0.79, 0.74, 0.82, 0.78, 0.82, 0.78, 0.81, 0.80, 0.81, 0.74, 0.87, 0.78]\n",
    "stat, p = shapiro(data)\n",
    "print(\"stats-value is ：%f\" %stat,\"p-value is：%f\" %p)"
   ]
  },
  {
   "cell_type": "markdown",
   "id": "ab865e8a",
   "metadata": {},
   "source": [
    "### Wald-Wolfowitz runs test\n",
    "requires N>10-15. If not, use equations on textbook p154"
   ]
  },
  {
   "cell_type": "code",
   "execution_count": 71,
   "id": "2fedc321",
   "metadata": {},
   "outputs": [
    {
     "name": "stdout",
     "output_type": "stream",
     "text": [
      "mean is：7.000000 sigma is：1.651446\n"
     ]
    }
   ],
   "source": [
    "N_a= 6  # runs of a\n",
    "N_b=6  # runs of b\n",
    "N = N_a+N_b  # sum run\n",
    "mean = 1+ (2*N_a*N_b)/N\n",
    "variance = (2*N_a*N_b*(2*N_a*N_b-N))/(N**2*(N-1))\n",
    "sigma = np.sqrt(variance)\n",
    "print(\"mean is：%f\" %mean,\"sigma is：%f\" %sigma)"
   ]
  },
  {
   "cell_type": "markdown",
   "id": "a0043b28",
   "metadata": {},
   "source": [
    "然后计算mean偏离标准mean多少个sigma,即得出z值。通过查正态分布表得出是否拒绝零假设的结论。"
   ]
  },
  {
   "cell_type": "markdown",
   "id": "2f5366f0",
   "metadata": {},
   "source": [
    "### 生成t分布"
   ]
  },
  {
   "cell_type": "code",
   "execution_count": null,
   "id": "d6e0f7a0",
   "metadata": {},
   "outputs": [],
   "source": [
    "stats.t.rvs(3,size=100) # t-distribution,df=3\n",
    "stats.t.rvs(100,size=100) # t-distribution,df=100,similar to Gaussian distribution"
   ]
  },
  {
   "cell_type": "markdown",
   "id": "a60ed009",
   "metadata": {},
   "source": [
    "### Fisher's exact test"
   ]
  },
  {
   "cell_type": "code",
   "execution_count": 9,
   "id": "182d90cb",
   "metadata": {},
   "outputs": [
    {
     "name": "stdout",
     "output_type": "stream",
     "text": [
      "0.0013460761879122358\n"
     ]
    }
   ],
   "source": [
    "# Fisher's exact test\n",
    "A= 1  # row1,column1\n",
    "B= 9  # row2,column1\n",
    "C= 11  # row1,column2\n",
    "D= 3  # row2,column2\n",
    "\n",
    "def main(num):\n",
    "    return math.factorial(num)\n",
    "p= (main(A+B)*main(C+D)*main(A+C)*main(B+D))/(main(A)*main(B)*main(C)*main(D)*main(A+B+C+D))\n",
    "\n",
    "print(p)"
   ]
  },
  {
   "cell_type": "markdown",
   "id": "74c41772",
   "metadata": {},
   "source": [
    "### Fit function"
   ]
  },
  {
   "cell_type": "code",
   "execution_count": null,
   "id": "720576ee",
   "metadata": {},
   "outputs": [],
   "source": [
    "# Gaussian distribution\n",
    "\n",
    "\n",
    "# 4-parameter function, s-shape curve\n",
    "def fourPL(x, A, B, C, D):\n",
    "    return ((A-D)/(1.0+((x/C)**(B))) + D)\n",
    "        \n",
    "# log-normal distribution\n",
    "def fit_pdf(x, a, mu, sigma):\n",
    "    return a / x * 1. / (sigma * np.sqrt( 2. * np.pi ) ) * np.exp( -( np.log( x ) - mu )**2 / ( 2. * sigma**2 ) )\n",
    "\n",
    "# polynomial \n",
    "def fit_pdf(x,A,B,C,D,E):\n",
    "    return A*x**4 + B*x**3 + C*x**2 + D*x*1 + E\n",
    "\n",
    "# exponential+Gaussian distribution\n",
    "def fit_pdf(x, Nexp, tau, Ngauss, mu, sigma) :\n",
    "    return Nexp * binwidth * (1.0 / tau * np.exp(-x/tau))+ Ngauss * binwidth * (1.0 / np.sqrt(2*np.pi) / sigma * np.exp( -0.5 * (x-mu)**2 / sigma**2))\n",
    "\n",
    "# Gamma distribution (sum of exponential distributions)\n",
    "def fit_pdf(x,a,b,c):\n",
    "    return a*(x**b)*np.exp(-c*x)   "
   ]
  },
  {
   "cell_type": "code",
   "execution_count": null,
   "id": "9716258f",
   "metadata": {},
   "outputs": [],
   "source": [
    "from pynverse import inversefunc\n",
    "#它可用于计算某些y_values 点的反函数：\n",
    "cube = (lambda x: np.sqrt(x**4))\n",
    "invcube = inversefunc(cube, y_values=16)\n",
    "print(invcube)"
   ]
  },
  {
   "cell_type": "markdown",
   "id": "71f2e200",
   "metadata": {},
   "source": [
    "### Plot: axis log-log"
   ]
  },
  {
   "cell_type": "code",
   "execution_count": null,
   "id": "c7cf70a5",
   "metadata": {},
   "outputs": [],
   "source": [
    "# axis log-log\n",
    "ax.set_yscale('log',nonposy='mask',subsy=[0]) # y-axis log\n",
    "plt.loglog(x,y, 'r-', Marker='.') # x、y-axis log"
   ]
  },
  {
   "cell_type": "markdown",
   "id": "3fc71b89",
   "metadata": {},
   "source": [
    "### Misc"
   ]
  },
  {
   "cell_type": "code",
   "execution_count": 48,
   "id": "5c43d048",
   "metadata": {},
   "outputs": [
    {
     "name": "stdout",
     "output_type": "stream",
     "text": [
      "983.6104699753055\n",
      "31517.23052510799\n"
     ]
    }
   ],
   "source": [
    "# 意为开a的r次方\n",
    "math.pow(a,1/r) "
   ]
  }
 ],
 "metadata": {
  "kernelspec": {
   "display_name": "Python 3 (ipykernel)",
   "language": "python",
   "name": "python3"
  },
  "language_info": {
   "codemirror_mode": {
    "name": "ipython",
    "version": 3
   },
   "file_extension": ".py",
   "mimetype": "text/x-python",
   "name": "python",
   "nbconvert_exporter": "python",
   "pygments_lexer": "ipython3",
   "version": "3.9.7"
  }
 },
 "nbformat": 4,
 "nbformat_minor": 5
}
