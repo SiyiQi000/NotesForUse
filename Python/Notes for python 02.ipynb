{
 "cells": [
  {
   "cell_type": "markdown",
   "id": "73d5686e",
   "metadata": {},
   "source": [
    "## 处理复杂问题-->面向对象，处理简单问题-->面向过程\n",
    "#### 列表式创建序列\n",
    "    列表推导式：\n",
    "<center>[表达式 for item in 可迭代对象]<center>\n",
    "<center>或者：[表达式 for item in 可迭代对象 if 条件判断]<center>   "
   ]
  },
  {
   "cell_type": "code",
   "execution_count": null,
   "id": "1f1b4ec2",
   "metadata": {},
   "outputs": [],
   "source": [
    "[x*2 for x in range(1,20) if x%5==0]"
   ]
  },
  {
   "cell_type": "code",
   "execution_count": null,
   "id": "3ef30715",
   "metadata": {},
   "outputs": [],
   "source": [
    "cells = [(row,col) for row in range(1,10) for col in range(1,10)]\n",
    "print(cells)"
   ]
  },
  {
   "cell_type": "markdown",
   "id": "290cabe9",
   "metadata": {},
   "source": [
    "    字典推导式：\n",
    "<center>{key_expression : value_expression for 表达式 in 可迭代对象}<center>"
   ]
  },
  {
   "cell_type": "code",
   "execution_count": null,
   "id": "c3193c51",
   "metadata": {
    "scrolled": true
   },
   "outputs": [],
   "source": [
    "# 统计文本中字符出现的次数\n",
    "my_text = \"the little book of scandi living\"\n",
    "char_count = {c:my_text.count(c) for c in my_text}\n",
    "print(char_count)"
   ]
  },
  {
   "cell_type": "markdown",
   "id": "5c36f0ec",
   "metadata": {},
   "source": [
    "    集合推导式：\n",
    "<center>{key_expression for 表达式 in 可迭代对象}<center>\n",
    "<center>与字典的区别是全是key，因为是key所以不能重复<center>"
   ]
  },
  {
   "cell_type": "code",
   "execution_count": null,
   "id": "0f8029d2",
   "metadata": {},
   "outputs": [],
   "source": [
    "print({x for x in range(1,101) if x%9==0})"
   ]
  },
  {
   "cell_type": "markdown",
   "id": "527d790d",
   "metadata": {},
   "source": [
    "    生成器推导式（生成元组，但生成器只能运行一次）：\n",
    "<center>(x for x in 可迭代对象)<center>"
   ]
  },
  {
   "cell_type": "code",
   "execution_count": null,
   "id": "c2bffede",
   "metadata": {},
   "outputs": [],
   "source": [
    "gnt = (x for x in range(4))\n",
    "print(tuple(gnt))\n",
    "print(tuple(gnt))"
   ]
  },
  {
   "cell_type": "code",
   "execution_count": null,
   "id": "b3f8e785",
   "metadata": {},
   "outputs": [],
   "source": [
    "# 练习：绘制18*18棋盘\n",
    "import turtle\n",
    "t = turtle.Pen()\n",
    "t.width = 1\n",
    "t.speed = 1\n",
    "t.penup()\n",
    "for m in range(1,20) n in range(1,20):\n",
    "    t.goto(m,n)\n",
    "    t.pendown()\n",
    "    t.goto(m,n)\n",
    "    t.penup()\n",
    "    \n",
    "turtle.down()"
   ]
  },
  {
   "cell_type": "markdown",
   "id": "8bc44d69",
   "metadata": {},
   "source": [
    "## 函数\n",
    "    函数：内置函数、标准库函数、第三方库函数、用户自定义函数\n",
    "    定义函数：\n",
    "<center>def 函数名（[参数列表]）:<center>\n",
    "<center>'''文档字符串'''<center>\n",
    "<center>函数体/若干语句<center>"
   ]
  },
  {
   "cell_type": "markdown",
   "id": "429238ea",
   "metadata": {},
   "source": [
    "    调用函数：函数名() 调用函数用的是栈帧stack frame，一次性使用\n",
    "    如果函数体中包含return语句，则结束函数执行并返回值；否则返回None\n",
    "    函数也是对象，可以赋给新变量(作为参数传递),例如 c=test01\n",
    "    *局部变量和全局变量重名时，在函数内作为局部变量，除非用 global a 这样声明是全局变量 a。\n",
    "    查看局部变量 print(locals()),全局变量 print(globals())\n",
    "    *因为局部变量效率较高，可以通过把全局变量赋给局部变量的方法提高运行速度。"
   ]
  },
  {
   "cell_type": "markdown",
   "id": "b787a65b",
   "metadata": {},
   "source": [
    "#### 参数类型\n",
    "    位置参数、默认值参数（必须放在普通位置参数后面）、命名参数/关键字参数、可变参数、强制命名参数。\n",
    "    可变参数使用*a、**a命名，*建立元组，**建立字典。\n",
    "    在可变参数后面增加的新参数，必须在调用的时候强制命名参数，例如：需调用(*a,b,c)，则输入 12, b=3,c=123"
   ]
  },
  {
   "cell_type": "code",
   "execution_count": null,
   "id": "ed9dff71",
   "metadata": {},
   "outputs": [],
   "source": [
    "def test01(a,b,c):\n",
    "    return [a*10,b*10,c*10]\n",
    "a = test01(23,2,55)\n",
    "print(a)"
   ]
  },
  {
   "cell_type": "markdown",
   "id": "9d5db570",
   "metadata": {},
   "source": [
    "#### 参数的传递\n",
    "    传递可变对象"
   ]
  },
  {
   "cell_type": "code",
   "execution_count": null,
   "id": "79ec73ab",
   "metadata": {},
   "outputs": [],
   "source": [
    "a = [10,20]\n",
    "print(a)\n",
    "\n",
    "def test02(m):\n",
    "    return [m.append(300)]\n",
    "test02(a)\n",
    "print(a)"
   ]
  },
  {
   "cell_type": "markdown",
   "id": "edb10893",
   "metadata": {},
   "source": [
    "    传递不可变对象（系统新创建一个对象）"
   ]
  },
  {
   "cell_type": "code",
   "execution_count": null,
   "id": "cfae4498",
   "metadata": {},
   "outputs": [],
   "source": [
    "a = 100\n",
    "def test03(n):\n",
    "    print(\"n的地址\",id(n))\n",
    "    n = n+200\n",
    "    print(\"n的地址\",id(n))\n",
    "    print (n)\n",
    "test03(a)\n",
    "print(\"a的地址\",id(a))"
   ]
  },
  {
   "cell_type": "markdown",
   "id": "c32d42ec",
   "metadata": {},
   "source": [
    "#### 浅拷贝和深拷贝\n",
    "        浅拷贝copy只拷贝第一层堆，深拷贝deepcopy是全部拷贝。浅拷贝后，如果在新引用对象中修改，会发生源对象第一级堆以下的修改！\n",
    "        *传递不可变对象时系统新创建一个对象，这个操作是浅拷贝。浅拷贝后，如果在新引用对象中修改，会发生源对象第一级堆以下的修改！"
   ]
  },
  {
   "cell_type": "code",
   "execution_count": null,
   "id": "70734ecc",
   "metadata": {},
   "outputs": [],
   "source": [
    "# 浅拷贝\n",
    "import copy\n",
    "\n",
    "a = [23,44,[67,78]]\n",
    "b = copy.copy(a)\n",
    "\n",
    "print(\"a:\",a)\n",
    "print(\"b:\",b)\n",
    "\n",
    "b.append(30)\n",
    "b[2].append(7)\n",
    "print(\"浅拷贝后——\")\n",
    "print (\"a:\",a)\n",
    "print (\"b:\",b)"
   ]
  },
  {
   "cell_type": "code",
   "execution_count": null,
   "id": "e43f93f6",
   "metadata": {},
   "outputs": [],
   "source": [
    "# 深拷贝\n",
    "import copy\n",
    "\n",
    "a = [23,44,[67,78]]\n",
    "b = copy.deepcopy(a)\n",
    "\n",
    "print(\"a:\",a)\n",
    "print(\"b:\",b)\n",
    "\n",
    "b.append(30)\n",
    "b[2].append(7)\n",
    "print(\"深拷贝后——\")\n",
    "print (\"a:\",a)\n",
    "print (\"b:\",b)"
   ]
  },
  {
   "cell_type": "markdown",
   "id": "d2ef1d76",
   "metadata": {},
   "source": [
    "#### lambda表达式\n",
    "    lambda表达式：\n",
    "<center>f = lambda arg1, arg2, arg3... : 表达式<center>\n",
    "<center>arg1, arg2, arg3为函数的参数。表达式相当于函数体。运算结果是表达式的运算结果。<center>"
   ]
  },
  {
   "cell_type": "code",
   "execution_count": null,
   "id": "4f84e942",
   "metadata": {},
   "outputs": [],
   "source": [
    "# lambda表达式使用\n",
    "f = lambda a,b,c : a+b+c\n",
    "print(f)\n",
    "print(f(2,3,4))\n",
    "\n",
    "g = [lambda a : a*2, lambda b : b*3, lambda c : c*4]\n",
    "h = g[0](5),g[1](6),g[2](7)\n",
    "print(h)"
   ]
  },
  {
   "cell_type": "markdown",
   "id": "40a5cf8c",
   "metadata": {},
   "source": [
    "#### eval函数\n",
    "    将字符串当成有效的表达式来求值并返回计算结果。"
   ]
  },
  {
   "cell_type": "code",
   "execution_count": null,
   "id": "a9a22c4d",
   "metadata": {},
   "outputs": [],
   "source": [
    "# eval()函数\n",
    "s = \"print('abcde')\"\n",
    "eval(s)\n",
    "\n",
    "a = 10\n",
    "b = 20\n",
    "c = eval(\"a+b\")\n",
    "print(c)\n",
    "\n",
    "dict1 = dict(a = 100, b = 200)\n",
    "d = eval(\"a+b\",dict1)\n",
    "print(d)"
   ]
  },
  {
   "cell_type": "markdown",
   "id": "45642752",
   "metadata": {},
   "source": [
    "#### 递归函数\n",
    "    自己调用自己。可以用来计算阶乘、绘制分形图形。"
   ]
  },
  {
   "cell_type": "code",
   "execution_count": null,
   "id": "f8fcf6ce",
   "metadata": {},
   "outputs": [],
   "source": [
    "# 利用递归函数计算阶乘\n",
    "def factorial(n):\n",
    "    if n ==1:\n",
    "        return 1\n",
    "    else:\n",
    "        return n*factorial(n-1)\n",
    "result = factorial(5)\n",
    "print(result)"
   ]
  },
  {
   "cell_type": "markdown",
   "id": "ee2b16a6",
   "metadata": {},
   "source": [
    "#### 嵌套函数（内部函数）\n",
    "    在外部函数里面定义内部函数，只能在外部函数内部使用。可以隐藏数据在内部函数中。"
   ]
  },
  {
   "cell_type": "code",
   "execution_count": null,
   "id": "8d16d749",
   "metadata": {},
   "outputs": [],
   "source": [
    "def printName(isChinese,name,familyName):\n",
    "    def inner_print(a,b):\n",
    "        print(\"{0} {1}\".format(a,b))\n",
    "        \n",
    "    if isChinese:\n",
    "        inner_print(familyName,name)\n",
    "    else:\n",
    "        inner_print(name,familyName)\n",
    "        \n",
    "printName(True,\"小七\",\"高\")\n",
    "printName(False,\"Joe\",\"Petersen\")"
   ]
  },
  {
   "cell_type": "markdown",
   "id": "ad0d9d15",
   "metadata": {},
   "source": [
    "    局部变量nonlocal、全局变量global的声明"
   ]
  },
  {
   "cell_type": "code",
   "execution_count": null,
   "id": "cc70faec",
   "metadata": {},
   "outputs": [],
   "source": [
    "a = 100\n",
    "def outer():\n",
    "    b = 10\n",
    "    \n",
    "    def inner():\n",
    "        nonlocal b  # 声明局部变量\n",
    "        print(\"inner b:\",b)\n",
    "        b = 20\n",
    "        \n",
    "        global a  # 声明全局变量\n",
    "        a = 1000\n",
    "    inner()\n",
    "    print(\"outer b:\",b)\n",
    "outer()\n",
    "print(\"a:\",a)"
   ]
  },
  {
   "cell_type": "markdown",
   "id": "e93951f2",
   "metadata": {},
   "source": [
    "#### LEGB规则\n",
    "    python在查找“名称”时，是按照LEGB规则查找的：\n",
    "    Local --> Enclosed --> Global --> Built in\n",
    "    分别表示函数或者类的方法内部、嵌套函数、模块中的全局变量、python为自己保留的特殊名称。"
   ]
  }
 ],
 "metadata": {
  "kernelspec": {
   "display_name": "Python 3 (ipykernel)",
   "language": "python",
   "name": "python3"
  },
  "language_info": {
   "codemirror_mode": {
    "name": "ipython",
    "version": 3
   },
   "file_extension": ".py",
   "mimetype": "text/x-python",
   "name": "python",
   "nbconvert_exporter": "python",
   "pygments_lexer": "ipython3",
   "version": "3.9.7"
  }
 },
 "nbformat": 4,
 "nbformat_minor": 5
}
