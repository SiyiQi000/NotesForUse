{
 "cells": [
  {
   "cell_type": "markdown",
   "id": "4b6f419f",
   "metadata": {},
   "source": [
    "## 不清楚的功能直接用：help() 来查看说明\n",
    "    对于函数的说明用\"help(函数名.__doc__)\"查看\n",
    "\n",
    "#### 标志符\n",
    "    必须以字母或下划线开头。字符以字母、数字或下划线组成。但避免关键字和以__这种双下划线开头和结尾。\n",
    "\n",
    "#### 基本运算符\n",
    "    / 浮点数除法 8/2 4.0\n",
    "    // 整数除法 7/2 3\n",
    "    % 模（取余） 7%4 3\n",
    "    ** 幂 2**3 8\n",
    "    @ 向量乘法\n",
    "    divmod() 同时得商和余数 divmod(13,3) (4,1)\n",
    "    round() 四舍五入浮点数\n",
    "    \n",
    "#### 字符串的编码Unicode\n",
    "    ord() 把字符转换成Unicode码\n",
    "    chr() 把十进制数字转换成对应的字符\n",
    "    \n",
    "#### 转义字符\n",
    "    \\（在行尾时） 续行符\n",
    "    \\\\ 反斜杠符号\n",
    "    \\' 单引号\n",
    "    \\\" 双引号\n",
    "    \\b 退格\n",
    "    \\n 换行\n",
    "    \\t 横向制表符\n",
    "    \\r 回车\n",
    "    \n",
    "#### 使用li列表和join字符串合并来优化for循环\n",
    "[两种for循环用时对比](IMG_0797.JPG)\n",
    "\n",
    "#### python字符串的处理\n",
    "[字符串](https://www.jianshu.com/p/b758332c44bb)\n",
    "\n",
    "#### 常用序列结构\n",
    "    字符串、列表[]、元组()、字典{}、集合"
   ]
  },
  {
   "cell_type": "markdown",
   "id": "ed32dc72",
   "metadata": {},
   "source": [
    "##### 列表 list\n",
    "[列表](https://www.runoob.com/python3/python3-list.html)"
   ]
  },
  {
   "cell_type": "code",
   "execution_count": null,
   "id": "b5b46fcc",
   "metadata": {},
   "outputs": [],
   "source": [
    "# 运用循环、判断语句打印列表\n",
    "a = [x*2 for x in range(100) if x%9 == 0]\n",
    "print(a)"
   ]
  },
  {
   "cell_type": "code",
   "execution_count": null,
   "id": "685624af",
   "metadata": {},
   "outputs": [],
   "source": [
    "# 运用嵌套循环打印二维列表\n",
    "a = [\n",
    "    [\"昨天\",\"天气\",\"多云\"],\n",
    "    [\"今天\",\"天气\",\"晴朗\"]\n",
    "]\n",
    "for m in range(2):\n",
    "    for n in range(3):\n",
    "        print(a[m][n],end = \"\")\n",
    "    print()"
   ]
  },
  {
   "cell_type": "markdown",
   "id": "71ffcd40",
   "metadata": {},
   "source": [
    "##### 元组 tuple\n",
    "    元组不可修改，和整数、字符串一样可以作为字典的键，而列表不能。"
   ]
  },
  {
   "cell_type": "code",
   "execution_count": 12,
   "id": "df246f16",
   "metadata": {},
   "outputs": [
    {
     "name": "stdout",
     "output_type": "stream",
     "text": [
      "<zip object at 0x00000226266C5D40>\n",
      "[(1, 4, 7), (2, 5, 8), (3, 6, 9)]\n"
     ]
    }
   ],
   "source": [
    "# zip(列表1，列表2，…)将多个列表对应位置的元素组合成元组\n",
    "a = [1,2,3]\n",
    "b = [4,5,6]\n",
    "c = [7,8,9]\n",
    "d = zip(a,b,c)\n",
    "print(d)\n",
    "d = list(d)\n",
    "print(d)\n"
   ]
  },
  {
   "cell_type": "code",
   "execution_count": null,
   "id": "b5fc255c",
   "metadata": {},
   "outputs": [],
   "source": [
    "# 通过生成器推导式创建元组，__next__遍历\n",
    "a = (x*2 for x in range(5))\n",
    "a.__next__()\n",
    "a.__next__()\n",
    "a.__next__()\n",
    "a.__next__()\n",
    "a.__next__()"
   ]
  },
  {
   "cell_type": "markdown",
   "id": "d1164838",
   "metadata": {},
   "source": [
    "##### 字典 dict\n",
    "    “键(key)”是不可重复的任意的不可变数据，比如：整数、浮点数、字符串、元组。列表、字典、集合这些可变对象不能作为“键”。\n",
    "    键值对items,键keys,值values\n",
    "    get：因为查无此名会返回none，而不会报错，所以常用这个\n",
    "    update: a.update(b)意为用b覆盖a\n",
    "    *不要在遍历字典的同时修改字典，因为修改可能导致次序变化\n",
    "    **任何数据都可以用表格表示！"
   ]
  },
  {
   "cell_type": "code",
   "execution_count": null,
   "id": "b3f28bf4",
   "metadata": {},
   "outputs": [],
   "source": [
    "# 典型的字典定义方式\n",
    "a = {\"name\":\"Ana\",\"age\":\"18\"}\n",
    "type(a)"
   ]
  },
  {
   "cell_type": "code",
   "execution_count": null,
   "id": "e7b9eb68",
   "metadata": {},
   "outputs": [],
   "source": [
    "# 通过dict和zip()创建字典对象，zip()括号中的前一个值作为键\n",
    "a = [\"1\",\"2\",\"3\"]\n",
    "b = [\"鸽子\",\"奶牛\",\"皇帝\"]\n",
    "c = dict(zip(a,b))\n",
    "c"
   ]
  },
  {
   "cell_type": "code",
   "execution_count": null,
   "id": "7a3f9c4b",
   "metadata": {},
   "outputs": [],
   "source": [
    "# 通过fromkeys创建值为空的字典\n",
    "a = dict.fromkeys(['name','age','job'])\n",
    "a"
   ]
  },
  {
   "cell_type": "code",
   "execution_count": null,
   "id": "6237ad0b",
   "metadata": {},
   "outputs": [],
   "source": [
    "# 遍历\n",
    "# 这段很重要\n",
    "r1 = {\"鸟类\":\"鸽子\",\"食草动物\":\"奶牛\",\"灵长动物\":\"智人\"}\n",
    "r2 = {\"鸟类\":\"猫头鹰\",\"食草动物\":\"獐鹿\",\"灵长动物\":\"猕猴\"}\n",
    "r3 = {\"鸟类\":\"鹳\",\"食草动物\":\"绵羊\",\"灵长动物\":\"黑猩猩\"}\n",
    "tb = [r1,r2,r3]\n",
    "for i in range(len(tb)):\n",
    "    print(tb[i].get(\"灵长动物\"))"
   ]
  },
  {
   "cell_type": "markdown",
   "id": "5dbc6769",
   "metadata": {},
   "source": [
    "##### 集合 set\n",
    "    无序可变，元素不能重复。集合底层是字典实现。\n",
    "    并集：| 或 union\n",
    "    交集：& 或 intersection\n",
    "    差集：- 或 difference"
   ]
  },
  {
   "cell_type": "code",
   "execution_count": null,
   "id": "8c773314",
   "metadata": {},
   "outputs": [],
   "source": [
    "# 集合定义方式\n",
    "a = {1,2,3}\n",
    "type(a)"
   ]
  },
  {
   "cell_type": "markdown",
   "id": "f1618f78",
   "metadata": {},
   "source": [
    "### 控制语句\n",
    "#### 条件语句\n",
    "[条件语句](https://www.runoob.com/python/python-if-statement.html)\n",
    "   \n",
    "    用if判断，只要非False或非空，布尔值都返回1，即True\n",
    "    if中不能出现赋值操作符 = 。所以用if判断相等关系，要用 =="
   ]
  },
  {
   "cell_type": "code",
   "execution_count": null,
   "id": "b122e227",
   "metadata": {
    "scrolled": true
   },
   "outputs": [],
   "source": [
    "a = input(\"请输入一个小于10的数字：\")\n",
    "if int(a)<10: #因为键盘输入默认是字符串的形式，所以这里需要转成int\n",
    "    print(a)"
   ]
  },
  {
   "cell_type": "code",
   "execution_count": null,
   "id": "2a41ccbe",
   "metadata": {},
   "outputs": [],
   "source": [
    "# 三元条件运算符\n",
    "num = input(\"请输入一个数字：\")\n",
    "print(num if int(num)<10 else \"数字太大\")"
   ]
  },
  {
   "cell_type": "code",
   "execution_count": null,
   "id": "85ec4934",
   "metadata": {},
   "outputs": [],
   "source": [
    "# 多分支结构\n",
    "score = int(input(\"请输入该学生成绩：\"))\n",
    "grade = \"\"\n",
    "\n",
    "if score<60:\n",
    "    grade = \"不及格\"\n",
    "elif score<80:\n",
    "    grade = \"及格\"\n",
    "elif score<90:\n",
    "    grade = \"良好\"\n",
    "else: \n",
    "    grade = \"优秀\"\n",
    "print (\"分数是{0}，等级是{1}\".format(score,grade))  #这里format创建了一个0-score,1-grade对应的字典，用0、1这样的位置来对应name，最终调用值"
   ]
  },
  {
   "cell_type": "code",
   "execution_count": null,
   "id": "57e25596",
   "metadata": {},
   "outputs": [],
   "source": [
    "x = int(input(\"请输入横坐标：\"))\n",
    "y = int(input(\"请输入纵坐标：\"))\n",
    "a = \"\"\n",
    "\n",
    "if x<0 and y<0:\n",
    "    a = \"第三象限\"\n",
    "elif x<0 and y>0:\n",
    "    a = \"第二象限\"    \n",
    "elif x>0 and y<0:\n",
    "    a = \"第四象限\"\n",
    "elif x==0 and y==0:\n",
    "    a = \"原点\"      \n",
    "elif x==0 and y!=0:\n",
    "    a = \"y轴\"      \n",
    "elif x!=0 and y==0:\n",
    "    a = \"x轴\"          \n",
    "else:\n",
    "    a = \"第一象限\"    \n",
    "print (\"该坐标点在{0}\".format(a))"
   ]
  },
  {
   "cell_type": "code",
   "execution_count": null,
   "id": "662b3165",
   "metadata": {},
   "outputs": [],
   "source": [
    "# 通过整数除法优化代码\n",
    "score = int(input(\"请输入一个分数：\"))\n",
    "if score<0 or score>100:\n",
    "    print(\"请输入一个0-100的分数\")\n",
    "else:\n",
    "    num = score//10\n",
    "    grade = \"ABCDE\"\n",
    "    \n",
    "    if num < 6:\n",
    "        num = 5\n",
    "    print (grade[9-num])"
   ]
  },
  {
   "cell_type": "markdown",
   "id": "a4e4d8e0",
   "metadata": {},
   "source": [
    "#### 循环语句\n",
    "[循环语句](https://www.runoob.com/python/python-loops.html)\n",
    "\n",
    "    while,for\n",
    "    代码优化：尽量往循环外、外层循环放，尽量使用局部变量。"
   ]
  },
  {
   "cell_type": "code",
   "execution_count": null,
   "id": "314e6f7a",
   "metadata": {},
   "outputs": [],
   "source": [
    "# while 循环\n",
    "a = 0\n",
    "sum_a = 0\n",
    "\n",
    "while a <=100:\n",
    "    sum_a = sum_a + a\n",
    "    a += 1\n",
    "    \n",
    "print(sum_a)"
   ]
  },
  {
   "cell_type": "markdown",
   "id": "c9a47a79",
   "metadata": {},
   "source": [
    "    for循环通常用于可迭代对象的遍历，包括序列（字符串、列表、元组），字典，迭代器对象iterator，生成器函数generator"
   ]
  },
  {
   "cell_type": "code",
   "execution_count": null,
   "id": "d47d055e",
   "metadata": {},
   "outputs": [],
   "source": [
    "# 用for循环遍历字典\n",
    "d = {\"name\":\"ana\",\"age\":\"18\",\"height\":\"170\"}\n",
    "for i in d:  #遍历键\n",
    "    print(i)\n",
    "for i in d.keys():  #遍历键\n",
    "    print(i)\n",
    "for i in d.values():  #遍历值\n",
    "    print(i)\n",
    "for i in d.items():   #遍历键值\n",
    "    print(i)"
   ]
  },
  {
   "cell_type": "markdown",
   "id": "75714fb3",
   "metadata": {},
   "source": [
    "    range对象是一个迭代器对象，用来产生指定范围的数字序列。包括前不包括后。格式为：\n",
    "<center>range(start,end,step)  其中start默认为0，step默认为1<center>"
   ]
  },
  {
   "cell_type": "code",
   "execution_count": null,
   "id": "aeec9667",
   "metadata": {},
   "outputs": [],
   "source": [
    "#结合for和if/else计算累加，其中使用%取余判断是否为奇\n",
    "sum_all = 0\n",
    "sum_o = 0\n",
    "sum_e = 0\n",
    "\n",
    "for i in range(101):\n",
    "    sum_all += i\n",
    "    if i%2 == 1:\n",
    "        sum_o += i\n",
    "    else:\n",
    "        sum_e += i\n",
    "print(\"1-100累加总和{0},奇数和{1},偶数和{2}\".format(sum_all,sum_o,sum_e))"
   ]
  },
  {
   "cell_type": "code",
   "execution_count": null,
   "id": "33114283",
   "metadata": {},
   "outputs": [],
   "source": [
    "    嵌套循环"
   ]
  },
  {
   "cell_type": "code",
   "execution_count": null,
   "id": "12224eeb",
   "metadata": {},
   "outputs": [],
   "source": [
    "# 打印九九乘法表\n",
    "for m in range(1,10):\n",
    "    for n in range(1,m+1):\n",
    "        print(\"{0}*{1}={2}\".format(m,n,(m*n)),end=\"\\t\")\n",
    "    print()"
   ]
  },
  {
   "cell_type": "code",
   "execution_count": null,
   "id": "3d34e60e",
   "metadata": {},
   "outputs": [],
   "source": [
    "# 表格里找一个范围的数据\n",
    "r1 = dict(name = \"Ana\",age = 18)\n",
    "r2 = dict(name = \"Dan\",age = 13)\n",
    "r3 = dict(name = \"Joe\",age = 22)\n",
    "tb = [r1,r2,r3]\n",
    "for i in tb:\n",
    "    if i.get(\"age\")>15:\n",
    "        print(i)"
   ]
  },
  {
   "cell_type": "markdown",
   "id": "a4acfcba",
   "metadata": {},
   "source": [
    "    break: 打破整个循环体，不执行下面的else\n",
    "    continue: 打断本次循环"
   ]
  },
  {
   "cell_type": "code",
   "execution_count": null,
   "id": "79483d75",
   "metadata": {},
   "outputs": [],
   "source": [
    "empNum = 0\n",
    "salarySum = 0\n",
    "salarys = []\n",
    "while True:  # while True 很常用于输入input\n",
    "    s = input(\"请输入员工的薪资（按Q或q结束）\")\n",
    "    \n",
    "    if s.upper() == 'Q':\n",
    "        print(\"录入完成，退出\")\n",
    "        break\n",
    "    if float(s) < 0:\n",
    "        continue\n",
    "    empNum += 1\n",
    "    salarys.append(float(s)) # 把浮点数s放在列表salarys的后面\n",
    "    salarySum += float(s)\n",
    "print(\"员工数{0}\".format(empNum))\n",
    "print(\"录入薪资\",salarys)\n",
    "print(\"平均薪资{0}\".format(salarySum/empNum))"
   ]
  },
  {
   "cell_type": "code",
   "execution_count": null,
   "id": "2907cc61",
   "metadata": {},
   "outputs": [],
   "source": [
    "# else语句\n",
    "empNum = 0\n",
    "salarySum = 0\n",
    "salarys = []\n",
    "for i in range(4):\n",
    "    s = input(\"请输入四名员工的薪资（按Q或q结束）\")\n",
    "    \n",
    "    if s.upper() == 'Q':\n",
    "        print(\"录入完成，退出\")\n",
    "        break  # 跳出整个for-else循环\n",
    "   \n",
    "    if float(s) < 0:\n",
    "        continue\n",
    "    empNum += 1\n",
    "    salarys.append(float(s)) # 把浮点数s放在列表salarys的后面\n",
    "    salarySum += float(s)\n",
    "\n",
    "else:\n",
    "    print(\"您已经全部录入4名员工的薪资\")    \n",
    "\n",
    "print(\"员工数{0}\".format(empNum))\n",
    "print(\"录入薪资\",salarys)\n",
    "print(\"平均薪资{0}\".format(salarySum/empNum))"
   ]
  },
  {
   "cell_type": "markdown",
   "id": "7a280f7a",
   "metadata": {},
   "source": [
    "    使用zip进行并行迭代"
   ]
  },
  {
   "cell_type": "code",
   "execution_count": null,
   "id": "b40efb72",
   "metadata": {},
   "outputs": [],
   "source": [
    "names = (\"Ana\",\"Dan\",\"Joe\")\n",
    "ages = (13,24,12)\n",
    "jobs = (\"doctor\",\"police\",\"teacher\")\n",
    "\n",
    "for name,age,job in zip(names,ages,jobs):\n",
    "    print(\"{0}--{1}--{2}\".format(name,age,job))"
   ]
  }
 ],
 "metadata": {
  "kernelspec": {
   "display_name": "Python 3 (ipykernel)",
   "language": "python",
   "name": "python3"
  },
  "language_info": {
   "codemirror_mode": {
    "name": "ipython",
    "version": 3
   },
   "file_extension": ".py",
   "mimetype": "text/x-python",
   "name": "python",
   "nbconvert_exporter": "python",
   "pygments_lexer": "ipython3",
   "version": "3.9.7"
  }
 },
 "nbformat": 4,
 "nbformat_minor": 5
}
