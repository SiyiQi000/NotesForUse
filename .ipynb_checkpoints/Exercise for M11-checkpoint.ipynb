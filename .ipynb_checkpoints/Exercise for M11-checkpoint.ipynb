{
 "cells": [
  {
   "cell_type": "code",
   "execution_count": 1,
   "id": "720e5a48",
   "metadata": {},
   "outputs": [],
   "source": [
    "import matplotlib.pyplot as plt\n",
    "import numpy as np\n",
    "import pandas as pd\n",
    "import requests\n",
    "import seaborn as sns"
   ]
  },
  {
   "cell_type": "code",
   "execution_count": 2,
   "id": "40b855dd",
   "metadata": {},
   "outputs": [],
   "source": [
    "import itertools\n",
    "import matplotlib.gridspec as gridspec\n",
    "import warnings\n",
    "\n",
    "from sklearn import datasets\n",
    "from sklearn.tree import DecisionTreeClassifier\n",
    "from sklearn.neighbors import KNeighborsClassifier\n",
    "from sklearn.ensemble import BaggingClassifier\n",
    "from sklearn.linear_model import Perceptron\n",
    "from sklearn.model_selection import cross_val_score,train_test_split\n",
    "from sklearn.linear_model import LogisticRegression\n",
    "from sklearn.metrics import accuracy_score\n",
    "from sklearn.preprocessing import PolynomialFeatures\n",
    "from sklearn.linear_model import LinearRegression\n",
    "from sklearn.metrics import mean_squared_error as mse\n",
    "\n",
    "from sklearn.exceptions import ConvergenceWarning\n",
    "warnings.filterwarnings(action='ignore', category=ConvergenceWarning)\n",
    "\n",
    "#stacking利器：\n",
    "#绘制学习曲线\n",
    "from mlxtend.plotting import plot_learning_curves\n",
    "#画出logistic模型决策边界\n",
    "from mlxtend.plotting import plot_decision_regions\n",
    "%matplotlib inline"
   ]
  },
  {
   "cell_type": "code",
   "execution_count": 3,
   "id": "c7ddf10d",
   "metadata": {},
   "outputs": [],
   "source": [
    "tips = sns.load_dataset(\"tips\")"
   ]
  },
  {
   "cell_type": "code",
   "execution_count": 4,
   "id": "8a8cd152",
   "metadata": {},
   "outputs": [],
   "source": [
    "cols = ['tip','total_bill', 'sex', 'smoker', 'day', 'time','size']\n",
    "tips_sub = pd.get_dummies(tips[cols].dropna(), drop_first=True)\n",
    "\n",
    "X = tips_sub.drop('tip', axis=1)\n",
    "y = tips_sub.tip"
   ]
  },
  {
   "cell_type": "code",
   "execution_count": 5,
   "id": "f601dce2",
   "metadata": {},
   "outputs": [
    {
     "data": {
      "text/html": [
       "<div>\n",
       "<style scoped>\n",
       "    .dataframe tbody tr th:only-of-type {\n",
       "        vertical-align: middle;\n",
       "    }\n",
       "\n",
       "    .dataframe tbody tr th {\n",
       "        vertical-align: top;\n",
       "    }\n",
       "\n",
       "    .dataframe thead th {\n",
       "        text-align: right;\n",
       "    }\n",
       "</style>\n",
       "<table border=\"1\" class=\"dataframe\">\n",
       "  <thead>\n",
       "    <tr style=\"text-align: right;\">\n",
       "      <th></th>\n",
       "      <th>tip</th>\n",
       "      <th>total_bill</th>\n",
       "      <th>size</th>\n",
       "      <th>sex_Female</th>\n",
       "      <th>smoker_No</th>\n",
       "      <th>day_Fri</th>\n",
       "      <th>day_Sat</th>\n",
       "      <th>day_Sun</th>\n",
       "      <th>time_Dinner</th>\n",
       "    </tr>\n",
       "  </thead>\n",
       "  <tbody>\n",
       "    <tr>\n",
       "      <th>0</th>\n",
       "      <td>1.01</td>\n",
       "      <td>16.99</td>\n",
       "      <td>2</td>\n",
       "      <td>1</td>\n",
       "      <td>1</td>\n",
       "      <td>0</td>\n",
       "      <td>0</td>\n",
       "      <td>1</td>\n",
       "      <td>1</td>\n",
       "    </tr>\n",
       "    <tr>\n",
       "      <th>1</th>\n",
       "      <td>1.66</td>\n",
       "      <td>10.34</td>\n",
       "      <td>3</td>\n",
       "      <td>0</td>\n",
       "      <td>1</td>\n",
       "      <td>0</td>\n",
       "      <td>0</td>\n",
       "      <td>1</td>\n",
       "      <td>1</td>\n",
       "    </tr>\n",
       "    <tr>\n",
       "      <th>2</th>\n",
       "      <td>3.50</td>\n",
       "      <td>21.01</td>\n",
       "      <td>3</td>\n",
       "      <td>0</td>\n",
       "      <td>1</td>\n",
       "      <td>0</td>\n",
       "      <td>0</td>\n",
       "      <td>1</td>\n",
       "      <td>1</td>\n",
       "    </tr>\n",
       "    <tr>\n",
       "      <th>3</th>\n",
       "      <td>3.31</td>\n",
       "      <td>23.68</td>\n",
       "      <td>2</td>\n",
       "      <td>0</td>\n",
       "      <td>1</td>\n",
       "      <td>0</td>\n",
       "      <td>0</td>\n",
       "      <td>1</td>\n",
       "      <td>1</td>\n",
       "    </tr>\n",
       "    <tr>\n",
       "      <th>4</th>\n",
       "      <td>3.61</td>\n",
       "      <td>24.59</td>\n",
       "      <td>4</td>\n",
       "      <td>1</td>\n",
       "      <td>1</td>\n",
       "      <td>0</td>\n",
       "      <td>0</td>\n",
       "      <td>1</td>\n",
       "      <td>1</td>\n",
       "    </tr>\n",
       "    <tr>\n",
       "      <th>...</th>\n",
       "      <td>...</td>\n",
       "      <td>...</td>\n",
       "      <td>...</td>\n",
       "      <td>...</td>\n",
       "      <td>...</td>\n",
       "      <td>...</td>\n",
       "      <td>...</td>\n",
       "      <td>...</td>\n",
       "      <td>...</td>\n",
       "    </tr>\n",
       "    <tr>\n",
       "      <th>239</th>\n",
       "      <td>5.92</td>\n",
       "      <td>29.03</td>\n",
       "      <td>3</td>\n",
       "      <td>0</td>\n",
       "      <td>1</td>\n",
       "      <td>0</td>\n",
       "      <td>1</td>\n",
       "      <td>0</td>\n",
       "      <td>1</td>\n",
       "    </tr>\n",
       "    <tr>\n",
       "      <th>240</th>\n",
       "      <td>2.00</td>\n",
       "      <td>27.18</td>\n",
       "      <td>2</td>\n",
       "      <td>1</td>\n",
       "      <td>0</td>\n",
       "      <td>0</td>\n",
       "      <td>1</td>\n",
       "      <td>0</td>\n",
       "      <td>1</td>\n",
       "    </tr>\n",
       "    <tr>\n",
       "      <th>241</th>\n",
       "      <td>2.00</td>\n",
       "      <td>22.67</td>\n",
       "      <td>2</td>\n",
       "      <td>0</td>\n",
       "      <td>0</td>\n",
       "      <td>0</td>\n",
       "      <td>1</td>\n",
       "      <td>0</td>\n",
       "      <td>1</td>\n",
       "    </tr>\n",
       "    <tr>\n",
       "      <th>242</th>\n",
       "      <td>1.75</td>\n",
       "      <td>17.82</td>\n",
       "      <td>2</td>\n",
       "      <td>0</td>\n",
       "      <td>1</td>\n",
       "      <td>0</td>\n",
       "      <td>1</td>\n",
       "      <td>0</td>\n",
       "      <td>1</td>\n",
       "    </tr>\n",
       "    <tr>\n",
       "      <th>243</th>\n",
       "      <td>3.00</td>\n",
       "      <td>18.78</td>\n",
       "      <td>2</td>\n",
       "      <td>1</td>\n",
       "      <td>1</td>\n",
       "      <td>0</td>\n",
       "      <td>0</td>\n",
       "      <td>0</td>\n",
       "      <td>1</td>\n",
       "    </tr>\n",
       "  </tbody>\n",
       "</table>\n",
       "<p>244 rows × 9 columns</p>\n",
       "</div>"
      ],
      "text/plain": [
       "      tip  total_bill  size  sex_Female  smoker_No  day_Fri  day_Sat  day_Sun  \\\n",
       "0    1.01       16.99     2           1          1        0        0        1   \n",
       "1    1.66       10.34     3           0          1        0        0        1   \n",
       "2    3.50       21.01     3           0          1        0        0        1   \n",
       "3    3.31       23.68     2           0          1        0        0        1   \n",
       "4    3.61       24.59     4           1          1        0        0        1   \n",
       "..    ...         ...   ...         ...        ...      ...      ...      ...   \n",
       "239  5.92       29.03     3           0          1        0        1        0   \n",
       "240  2.00       27.18     2           1          0        0        1        0   \n",
       "241  2.00       22.67     2           0          0        0        1        0   \n",
       "242  1.75       17.82     2           0          1        0        1        0   \n",
       "243  3.00       18.78     2           1          1        0        0        0   \n",
       "\n",
       "     time_Dinner  \n",
       "0              1  \n",
       "1              1  \n",
       "2              1  \n",
       "3              1  \n",
       "4              1  \n",
       "..           ...  \n",
       "239            1  \n",
       "240            1  \n",
       "241            1  \n",
       "242            1  \n",
       "243            1  \n",
       "\n",
       "[244 rows x 9 columns]"
      ]
     },
     "execution_count": 5,
     "metadata": {},
     "output_type": "execute_result"
    }
   ],
   "source": [
    "tips_sub"
   ]
  },
  {
   "cell_type": "code",
   "execution_count": 6,
   "id": "34f9292a",
   "metadata": {},
   "outputs": [],
   "source": [
    "X_train, X_test, y_train, y_test = train_test_split(X, y, test_size=0.5, random_state=11193) # test的数量占总体的0.2"
   ]
  },
  {
   "cell_type": "code",
   "execution_count": 7,
   "id": "91abacea",
   "metadata": {
    "scrolled": false
   },
   "outputs": [
    {
     "name": "stdout",
     "output_type": "stream",
     "text": [
      "     total_bill  size  sex_Female  smoker_No  day_Fri  day_Sat  day_Sun  \\\n",
      "35        24.06     3           0          1        0        1        0   \n",
      "128       11.38     2           1          1        0        0        0   \n",
      "37        16.93     3           1          1        0        1        0   \n",
      "174       16.82     2           0          0        0        0        1   \n",
      "5         25.29     4           0          1        0        0        1   \n",
      "..          ...   ...         ...        ...      ...      ...      ...   \n",
      "162       16.21     3           1          1        0        0        1   \n",
      "33        20.69     4           1          1        0        1        0   \n",
      "209       12.76     2           1          0        0        1        0   \n",
      "4         24.59     4           1          1        0        0        1   \n",
      "145        8.35     2           1          1        0        0        0   \n",
      "\n",
      "     time_Dinner  \n",
      "35             1  \n",
      "128            0  \n",
      "37             1  \n",
      "174            1  \n",
      "5              1  \n",
      "..           ...  \n",
      "162            1  \n",
      "33             1  \n",
      "209            1  \n",
      "4              1  \n",
      "145            0  \n",
      "\n",
      "[122 rows x 8 columns]\n"
     ]
    }
   ],
   "source": [
    "print(X_train)"
   ]
  },
  {
   "cell_type": "code",
   "execution_count": 8,
   "id": "661ce784",
   "metadata": {},
   "outputs": [],
   "source": [
    "\n",
    "from sklearn.preprocessing import StandardScaler\n",
    "sc = StandardScaler()\n",
    "X_train = sc.fit_transform(X_train)\n",
    "X_test = sc.transform(X_test)\n"
   ]
  },
  {
   "cell_type": "code",
   "execution_count": 9,
   "id": "5ac0350c",
   "metadata": {},
   "outputs": [
    {
     "data": {
      "text/plain": [
       "(122, 8)"
      ]
     },
     "execution_count": 9,
     "metadata": {},
     "output_type": "execute_result"
    }
   ],
   "source": [
    "X_train.shape"
   ]
  },
  {
   "cell_type": "code",
   "execution_count": 10,
   "id": "d6cb0f1e",
   "metadata": {},
   "outputs": [],
   "source": [
    "def net_input(X_, w_):    \n",
    "    ''' Computes the matrix product between X and w. Note that\n",
    "    X is assumed not to contain a bias/intercept column.'''\n",
    "    return np.dot(X_, w_[1:]) + w_[0]   \n",
    "# We have to add w_[0] separately because this is the constant term. \n",
    "# We could also have added a constant term (columns of 1's to X_ and multipliced it to all of w_)\n",
    "\n",
    "def compute_error(y_, X_, w_):\n",
    "    return y_ - net_input(X_, w_)"
   ]
  },
  {
   "cell_type": "code",
   "execution_count": 11,
   "id": "0f79f4a8",
   "metadata": {},
   "outputs": [
    {
     "data": {
      "text/plain": [
       "'\\n# 这个函数的问题在于被调用的时候无法成功地使w更新\\ndef update_weights(X_,y_,w_,eta,n_iter):\\n    counter = 0\\n    d_e = np.inf\\n\\n    lRMSE_list = []\\n    w_list = []    \\n\\n#    while d_e>0.1**6:\\n    for i in range(0,n_iter):  \\n        e = compute_error(y_,X_,w_)\\n        lRMSE = np.log(np.sqrt((e**2).mean()))\\n        \\n        w_[1:] += eta*X_.T.dot(e)\\n        w_[0] += eta*e.sum()\\n\\n        e = compute_error(y_,X_,w_)\\n        d_e = lRMSE - np.log(np.sqrt((e**2).mean()))\\n        counter = counter+1\\n\\n        lRMSE =  np.log(np.sqrt((e**2).mean()))\\n        lRMSE_list.append(lRMSE)\\n        w_list.append(w_)    \\n    \\n    return(w)\\n'"
      ]
     },
     "execution_count": 11,
     "metadata": {},
     "output_type": "execute_result"
    }
   ],
   "source": [
    "'''\n",
    "# 这个函数的问题在于被调用的时候无法成功地使w更新\n",
    "def update_weights(X_,y_,w_,eta,n_iter):\n",
    "    counter = 0\n",
    "    d_e = np.inf\n",
    "\n",
    "    lRMSE_list = []\n",
    "    w_list = []    \n",
    "\n",
    "#    while d_e>0.1**6:\n",
    "    for i in range(0,n_iter):  \n",
    "        e = compute_error(y_,X_,w_)\n",
    "        lRMSE = np.log(np.sqrt((e**2).mean()))\n",
    "        \n",
    "        w_[1:] += eta*X_.T.dot(e)\n",
    "        w_[0] += eta*e.sum()\n",
    "\n",
    "        e = compute_error(y_,X_,w_)\n",
    "        d_e = lRMSE - np.log(np.sqrt((e**2).mean()))\n",
    "        counter = counter+1\n",
    "\n",
    "        lRMSE =  np.log(np.sqrt((e**2).mean()))\n",
    "        lRMSE_list.append(lRMSE)\n",
    "        w_list.append(w_)    \n",
    "    \n",
    "    return(w)\n",
    "'''"
   ]
  },
  {
   "cell_type": "code",
   "execution_count": 12,
   "id": "bdd2176e",
   "metadata": {},
   "outputs": [
    {
     "data": {
      "text/plain": [
       "'\\nw = np.zeros(1+X_train.shape[1])\\nw1 = update_weights(X_train,y_train,w,0.001,50)\\nprint(w1)\\n'"
      ]
     },
     "execution_count": 12,
     "metadata": {},
     "output_type": "execute_result"
    }
   ],
   "source": [
    "'''\n",
    "w = np.zeros(1+X_train.shape[1])\n",
    "w1 = update_weights(X_train,y_train,w,0.001,50)\n",
    "print(w1)\n",
    "'''"
   ]
  },
  {
   "cell_type": "code",
   "execution_count": 13,
   "id": "667c7b28",
   "metadata": {
    "scrolled": false
   },
   "outputs": [
    {
     "data": {
      "text/plain": [
       "<AxesSubplot:>"
      ]
     },
     "execution_count": 13,
     "metadata": {},
     "output_type": "execute_result"
    },
    {
     "data": {
      "image/png": "[encoded data removed]",
      "text/plain": [
       "<Figure size 432x288 with 1 Axes>"
      ]
     },
     "metadata": {
      "needs_background": "light"
     },
     "output_type": "display_data"
    }
   ],
   "source": [
    "def MSE(y_,X_,w_):\n",
    "    return (compute_error(y_, X_, w_)**2).mean()\n",
    "    \n",
    "w = np.zeros(1+X_train.shape[1])\n",
    "MSE_train = [MSE(y_train, X_train, w)]\n",
    "MSE_test = [MSE(y_test, X_test, w)]\n",
    "\n",
    "\n",
    "for i in range(100):\n",
    "    e = compute_error(y_train,X_train,w)        \n",
    "    w[1:] += 0.001*X_train.T.dot(e)\n",
    "    w[0] += 0.001*e.sum()\n",
    "\n",
    "    e = compute_error(y_train,X_train,w)\n",
    "\n",
    "    MSE_train.append(MSE(y_train, X_train, w))\n",
    "    MSE_test.append(MSE(y_test, X_test, w))\n",
    "### END SOLUTION\n",
    "\n",
    "pd.Series(MSE_train).plot()\n",
    "pd.Series(MSE_test).plot()"
   ]
  },
  {
   "cell_type": "markdown",
   "id": "ca531a25",
   "metadata": {},
   "source": [
    "#### Exercise2"
   ]
  },
  {
   "cell_type": "code",
   "execution_count": 37,
   "id": "eecf4e84",
   "metadata": {},
   "outputs": [],
   "source": [
    "from sklearn.datasets import fetch_california_housing\n",
    "from sklearn.model_selection import train_test_split\n",
    "\n",
    "cal_house = fetch_california_housing()   "
   ]
  },
  {
   "cell_type": "code",
   "execution_count": 38,
   "id": "9b1abdf9",
   "metadata": {},
   "outputs": [
    {
     "data": {
      "text/plain": [
       "{'data': array([[   8.3252    ,   41.        ,    6.98412698, ...,    2.55555556,\n",
       "           37.88      , -122.23      ],\n",
       "        [   8.3014    ,   21.        ,    6.23813708, ...,    2.10984183,\n",
       "           37.86      , -122.22      ],\n",
       "        [   7.2574    ,   52.        ,    8.28813559, ...,    2.80225989,\n",
       "           37.85      , -122.24      ],\n",
       "        ...,\n",
       "        [   1.7       ,   17.        ,    5.20554273, ...,    2.3256351 ,\n",
       "           39.43      , -121.22      ],\n",
       "        [   1.8672    ,   18.        ,    5.32951289, ...,    2.12320917,\n",
       "           39.43      , -121.32      ],\n",
       "        [   2.3886    ,   16.        ,    5.25471698, ...,    2.61698113,\n",
       "           39.37      , -121.24      ]]),\n",
       " 'target': array([4.526, 3.585, 3.521, ..., 0.923, 0.847, 0.894]),\n",
       " 'frame': None,\n",
       " 'target_names': ['MedHouseVal'],\n",
       " 'feature_names': ['MedInc',\n",
       "  'HouseAge',\n",
       "  'AveRooms',\n",
       "  'AveBedrms',\n",
       "  'Population',\n",
       "  'AveOccup',\n",
       "  'Latitude',\n",
       "  'Longitude'],\n",
       " 'DESCR': '.. _california_housing_dataset:\\n\\nCalifornia Housing dataset\\n--------------------------\\n\\n**Data Set Characteristics:**\\n\\n    :Number of Instances: 20640\\n\\n    :Number of Attributes: 8 numeric, predictive attributes and the target\\n\\n    :Attribute Information:\\n        - MedInc        median income in block group\\n        - HouseAge      median house age in block group\\n        - AveRooms      average number of rooms per household\\n        - AveBedrms     average number of bedrooms per household\\n        - Population    block group population\\n        - AveOccup      average number of household members\\n        - Latitude      block group latitude\\n        - Longitude     block group longitude\\n\\n    :Missing Attribute Values: None\\n\\nThis dataset was obtained from the StatLib repository.\\nhttps://www.dcc.fc.up.pt/~ltorgo/Regression/cal_housing.html\\n\\nThe target variable is the median house value for California districts,\\nexpressed in hundreds of thousands of dollars ($100,000).\\n\\nThis dataset was derived from the 1990 U.S. census, using one row per census\\nblock group. A block group is the smallest geographical unit for which the U.S.\\nCensus Bureau publishes sample data (a block group typically has a population\\nof 600 to 3,000 people).\\n\\nAn household is a group of people residing within a home. Since the average\\nnumber of rooms and bedrooms in this dataset are provided per household, these\\ncolumns may take surpinsingly large values for block groups with few households\\nand many empty houses, such as vacation resorts.\\n\\nIt can be downloaded/loaded using the\\n:func:`sklearn.datasets.fetch_california_housing` function.\\n\\n.. topic:: References\\n\\n    - Pace, R. Kelley and Ronald Barry, Sparse Spatial Autoregressions,\\n      Statistics and Probability Letters, 33 (1997) 291-297\\n'}"
      ]
     },
     "execution_count": 38,
     "metadata": {},
     "output_type": "execute_result"
    }
   ],
   "source": [
    "cal_house"
   ]
  },
  {
   "cell_type": "code",
   "execution_count": 39,
   "id": "da999ba6",
   "metadata": {},
   "outputs": [
    {
     "data": {
      "text/html": [
       "<div>\n",
       "<style scoped>\n",
       "    .dataframe tbody tr th:only-of-type {\n",
       "        vertical-align: middle;\n",
       "    }\n",
       "\n",
       "    .dataframe tbody tr th {\n",
       "        vertical-align: top;\n",
       "    }\n",
       "\n",
       "    .dataframe thead th {\n",
       "        text-align: right;\n",
       "    }\n",
       "</style>\n",
       "<table border=\"1\" class=\"dataframe\">\n",
       "  <thead>\n",
       "    <tr style=\"text-align: right;\">\n",
       "      <th></th>\n",
       "      <th>MedInc</th>\n",
       "      <th>HouseAge</th>\n",
       "      <th>AveRooms</th>\n",
       "      <th>AveBedrms</th>\n",
       "      <th>Population</th>\n",
       "      <th>AveOccup</th>\n",
       "    </tr>\n",
       "  </thead>\n",
       "  <tbody>\n",
       "    <tr>\n",
       "      <th>0</th>\n",
       "      <td>8.3252</td>\n",
       "      <td>41.0</td>\n",
       "      <td>6.984127</td>\n",
       "      <td>1.023810</td>\n",
       "      <td>322.0</td>\n",
       "      <td>2.555556</td>\n",
       "    </tr>\n",
       "    <tr>\n",
       "      <th>1</th>\n",
       "      <td>8.3014</td>\n",
       "      <td>21.0</td>\n",
       "      <td>6.238137</td>\n",
       "      <td>0.971880</td>\n",
       "      <td>2401.0</td>\n",
       "      <td>2.109842</td>\n",
       "    </tr>\n",
       "    <tr>\n",
       "      <th>2</th>\n",
       "      <td>7.2574</td>\n",
       "      <td>52.0</td>\n",
       "      <td>8.288136</td>\n",
       "      <td>1.073446</td>\n",
       "      <td>496.0</td>\n",
       "      <td>2.802260</td>\n",
       "    </tr>\n",
       "    <tr>\n",
       "      <th>3</th>\n",
       "      <td>5.6431</td>\n",
       "      <td>52.0</td>\n",
       "      <td>5.817352</td>\n",
       "      <td>1.073059</td>\n",
       "      <td>558.0</td>\n",
       "      <td>2.547945</td>\n",
       "    </tr>\n",
       "    <tr>\n",
       "      <th>4</th>\n",
       "      <td>3.8462</td>\n",
       "      <td>52.0</td>\n",
       "      <td>6.281853</td>\n",
       "      <td>1.081081</td>\n",
       "      <td>565.0</td>\n",
       "      <td>2.181467</td>\n",
       "    </tr>\n",
       "    <tr>\n",
       "      <th>...</th>\n",
       "      <td>...</td>\n",
       "      <td>...</td>\n",
       "      <td>...</td>\n",
       "      <td>...</td>\n",
       "      <td>...</td>\n",
       "      <td>...</td>\n",
       "    </tr>\n",
       "    <tr>\n",
       "      <th>20635</th>\n",
       "      <td>1.5603</td>\n",
       "      <td>25.0</td>\n",
       "      <td>5.045455</td>\n",
       "      <td>1.133333</td>\n",
       "      <td>845.0</td>\n",
       "      <td>2.560606</td>\n",
       "    </tr>\n",
       "    <tr>\n",
       "      <th>20636</th>\n",
       "      <td>2.5568</td>\n",
       "      <td>18.0</td>\n",
       "      <td>6.114035</td>\n",
       "      <td>1.315789</td>\n",
       "      <td>356.0</td>\n",
       "      <td>3.122807</td>\n",
       "    </tr>\n",
       "    <tr>\n",
       "      <th>20637</th>\n",
       "      <td>1.7000</td>\n",
       "      <td>17.0</td>\n",
       "      <td>5.205543</td>\n",
       "      <td>1.120092</td>\n",
       "      <td>1007.0</td>\n",
       "      <td>2.325635</td>\n",
       "    </tr>\n",
       "    <tr>\n",
       "      <th>20638</th>\n",
       "      <td>1.8672</td>\n",
       "      <td>18.0</td>\n",
       "      <td>5.329513</td>\n",
       "      <td>1.171920</td>\n",
       "      <td>741.0</td>\n",
       "      <td>2.123209</td>\n",
       "    </tr>\n",
       "    <tr>\n",
       "      <th>20639</th>\n",
       "      <td>2.3886</td>\n",
       "      <td>16.0</td>\n",
       "      <td>5.254717</td>\n",
       "      <td>1.162264</td>\n",
       "      <td>1387.0</td>\n",
       "      <td>2.616981</td>\n",
       "    </tr>\n",
       "  </tbody>\n",
       "</table>\n",
       "<p>20640 rows × 6 columns</p>\n",
       "</div>"
      ],
      "text/plain": [
       "       MedInc  HouseAge  AveRooms  AveBedrms  Population  AveOccup\n",
       "0      8.3252      41.0  6.984127   1.023810       322.0  2.555556\n",
       "1      8.3014      21.0  6.238137   0.971880      2401.0  2.109842\n",
       "2      7.2574      52.0  8.288136   1.073446       496.0  2.802260\n",
       "3      5.6431      52.0  5.817352   1.073059       558.0  2.547945\n",
       "4      3.8462      52.0  6.281853   1.081081       565.0  2.181467\n",
       "...       ...       ...       ...        ...         ...       ...\n",
       "20635  1.5603      25.0  5.045455   1.133333       845.0  2.560606\n",
       "20636  2.5568      18.0  6.114035   1.315789       356.0  3.122807\n",
       "20637  1.7000      17.0  5.205543   1.120092      1007.0  2.325635\n",
       "20638  1.8672      18.0  5.329513   1.171920       741.0  2.123209\n",
       "20639  2.3886      16.0  5.254717   1.162264      1387.0  2.616981\n",
       "\n",
       "[20640 rows x 6 columns]"
      ]
     },
     "execution_count": 39,
     "metadata": {},
     "output_type": "execute_result"
    }
   ],
   "source": [
    "X = pd.DataFrame(data=cal_house['data'], \n",
    "                 columns=cal_house['feature_names'])\\\n",
    "             .iloc[:,:-2] # 不知道为什么是-2\n",
    "y = cal_house['target']\n",
    "\n",
    "X_train, X_test, y_train, y_test = train_test_split(X, y, test_size=.5, random_state=1)\n",
    "\n",
    "X"
   ]
  },
  {
   "cell_type": "code",
   "execution_count": 74,
   "id": "01ea225f",
   "metadata": {},
   "outputs": [
    {
     "data": {
      "text/plain": [
       "array([4.526, 3.585, 3.521, ..., 0.923, 0.847, 0.894])"
      ]
     },
     "execution_count": 74,
     "metadata": {},
     "output_type": "execute_result"
    }
   ],
   "source": [
    "y"
   ]
  },
  {
   "cell_type": "code",
   "execution_count": 40,
   "id": "a85e7b1c",
   "metadata": {},
   "outputs": [],
   "source": [
    "X_train = sc.fit_transform(X_train)\n",
    "X_test = sc.transform(X_test)"
   ]
  },
  {
   "cell_type": "code",
   "execution_count": 73,
   "id": "5a3b0ff5",
   "metadata": {},
   "outputs": [
    {
     "name": "stdout",
     "output_type": "stream",
     "text": [
      "[0.6125831892114874, 0.6127213282794784, 0.6145054629493718, 0.6375484483017948, 0.9351600484304425, 4.778961672937424, 54.42356867809407, 695.608324151151, 8976.827885589912, 115932.89139049916]\n",
      "\n",
      "[0.6125715959836054] [0.6149705900748272]\n",
      "\n",
      "[array([ 0.        ,  0.99916425,  0.20934788, -0.50829258,  0.47279963,\n",
      "        0.02161485, -0.03531124])]\n"
     ]
    }
   ],
   "source": [
    "test_mse = []\n",
    "train_mse = []\n",
    "parameters = []\n",
    "\n",
    "\n",
    "X_train_1 = PolynomialFeatures(degree=1).fit_transform(X_train) # poly. trans.\n",
    "X_test_1 = PolynomialFeatures(degree=1).fit_transform(X_test) # poly. trans.\n",
    "    \n",
    "reg = LinearRegression().fit(X_train_1, y_train) # fit on train\n",
    "    \n",
    "train_mse.append(mse(reg.predict(X_train_1),y_train)) # eval. performance on train\n",
    "test_mse.append(mse(reg.predict(X_test_1),y_test))  # eval. performance on test     \n",
    "parameters.append(reg.coef_) # store parameters\n",
    "\n",
    "Lasso1 = []\n",
    "for i in np.logspace(-5.0, 5.0, num=10):\n",
    "    Lasso = mse(reg.predict(X_train_1),y_train) + i*abs(np.sum(parameters) )\n",
    "    Lasso1.append(Lasso)\n",
    "\n",
    "print(Lasso1)\n",
    "print()\n",
    "print(train_mse,test_mse)\n",
    "print()\n",
    "print(parameters)"
   ]
  },
  {
   "cell_type": "code",
   "execution_count": 66,
   "id": "5becb91f",
   "metadata": {},
   "outputs": [
    {
     "name": "stdout",
     "output_type": "stream",
     "text": [
      "[0.5161667003917535, 0.5163162264248655, 0.5182474294046348, 0.5431898750206013, 0.8653339478201382, 5.025984640927855, 58.76285473020009, 752.8012203576798, 9716.651406694158, 125489.2284607589]\n",
      "\n",
      "[0.5161541515205228] [8.994128611092872]\n"
     ]
    }
   ],
   "source": [
    "test_mse = []\n",
    "train_mse = []\n",
    "parameters = []\n",
    "\n",
    "\n",
    "X_train_2 = PolynomialFeatures(degree=2).fit_transform(X_train) # poly. trans.\n",
    "X_test_2 = PolynomialFeatures(degree=2).fit_transform(X_test) # poly. trans.\n",
    "    \n",
    "reg = LinearRegression().fit(X_train_2, y_train) # fit on train\n",
    "    \n",
    "train_mse.append(mse(reg.predict(X_train_2),y_train)) # eval. performance on train\n",
    "test_mse.append(mse(reg.predict(X_test_2),y_test))  # eval. performance on test     \n",
    "parameters.append(reg.coef_) # store parameters\n",
    "\n",
    "Lasso2 = []\n",
    "for i in np.logspace(-5.0, 5.0, num=10):\n",
    "    Lasso = mse(reg.predict(X_train_2),y_train) + i*abs(np.sum(parameters) )\n",
    "    Lasso2.append(Lasso)\n",
    "\n",
    "print(Lasso2)\n",
    "print()\n",
    "print(train_mse,test_mse)\n"
   ]
  },
  {
   "cell_type": "code",
   "execution_count": 67,
   "id": "ac6456de",
   "metadata": {},
   "outputs": [
    {
     "name": "stdout",
     "output_type": "stream",
     "text": [
      "[0.4327162247647304, 0.433055682986607, 0.4374399545141202, 0.4940649987410593, 1.225405567768621, 10.671032237162033, 132.66599184426934, 1708.2914839849084, 22058.277249616425, 284888.4502362066]\n",
      "\n",
      "[0.43268773596297555] [643514.9503871889]\n"
     ]
    }
   ],
   "source": [
    "test_mse = []\n",
    "train_mse = []\n",
    "parameters = []\n",
    "\n",
    "\n",
    "X_train_3 = PolynomialFeatures(degree=3).fit_transform(X_train) # poly. trans.\n",
    "X_test_3 = PolynomialFeatures(degree=3).fit_transform(X_test) # poly. trans.\n",
    "    \n",
    "reg = LinearRegression().fit(X_train_3, y_train) # fit on train\n",
    "    \n",
    "train_mse.append(mse(reg.predict(X_train_3),y_train)) # eval. performance on train\n",
    "test_mse.append(mse(reg.predict(X_test_3),y_test))  # eval. performance on test     \n",
    "parameters.append(reg.coef_) # store parameters\n",
    "\n",
    "Lasso3 = []\n",
    "for i in np.logspace(-5.0, 5.0, num=10):\n",
    "    Lasso = mse(reg.predict(X_train_3),y_train) + i*abs(np.sum(parameters) )\n",
    "    Lasso3.append(Lasso)\n",
    "\n",
    "print(Lasso3)\n",
    "print()\n",
    "print(train_mse,test_mse)"
   ]
  },
  {
   "cell_type": "code",
   "execution_count": 69,
   "id": "44b81106",
   "metadata": {},
   "outputs": [
    {
     "data": {
      "text/plain": [
       "<AxesSubplot:>"
      ]
     },
     "execution_count": 69,
     "metadata": {},
     "output_type": "execute_result"
    },
    {
     "data": {
      "image/png": "[encoded data removed]",
      "text/plain": [
       "<Figure size 432x288 with 1 Axes>"
      ]
     },
     "metadata": {
      "needs_background": "light"
     },
     "output_type": "display_data"
    }
   ],
   "source": [
    "pd.Series(Lasso1).plot()\n",
    "pd.Series(Lasso2).plot()\n",
    "pd.Series(Lasso3).plot()"
   ]
  },
  {
   "cell_type": "code",
   "execution_count": 70,
   "id": "c51d6717",
   "metadata": {},
   "outputs": [
    {
     "data": {
      "text/plain": [
       "array([1.00000000e-05, 1.29154967e-04, 1.66810054e-03, 2.15443469e-02,\n",
       "       2.78255940e-01, 3.59381366e+00, 4.64158883e+01, 5.99484250e+02,\n",
       "       7.74263683e+03, 1.00000000e+05])"
      ]
     },
     "execution_count": 70,
     "metadata": {},
     "output_type": "execute_result"
    }
   ],
   "source": [
    "np.logspace(-5.0, 5.0, num=10) # lamda=46.42，即第7项时效果最佳"
   ]
  },
  {
   "cell_type": "code",
   "execution_count": null,
   "id": "31d0e56a",
   "metadata": {},
   "outputs": [],
   "source": [
    "# 按lamda=46.42时，degree=1的结果最小，与mse of train/test dataset的对比结果一致。但不明白，lamda和RMSE有关系吗？"
   ]
  }
 ],
 "metadata": {
  "kernelspec": {
   "display_name": "Python 3 (ipykernel)",
   "language": "python",
   "name": "python3"
  },
  "language_info": {
   "codemirror_mode": {
    "name": "ipython",
    "version": 3
   },
   "file_extension": ".py",
   "mimetype": "text/x-python",
   "name": "python",
   "nbconvert_exporter": "python",
   "pygments_lexer": "ipython3",
   "version": "3.9.7"
  }
 },
 "nbformat": 4,
 "nbformat_minor": 5
}
