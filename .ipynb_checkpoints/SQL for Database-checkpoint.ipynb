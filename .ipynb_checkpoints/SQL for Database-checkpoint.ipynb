{
 "cells": [
  {
   "cell_type": "markdown",
   "id": "68a7fe07",
   "metadata": {},
   "source": [
    "#### DML: COUNT, DISTINCT, LIMIT"
   ]
  },
  {
   "cell_type": "markdown",
   "id": "5aa6b687",
   "metadata": {},
   "source": [
    "Retrieve the number of distributors distinctly who distributed films acted by Clint Eastwood as 1st actor.</p>\n",
    "`SELECT COUNT(DISTINCT Distributor) FROM FilmLocations WHERE Actor1=\"Clint Eastwood\";`"
   ]
  },
  {
   "cell_type": "markdown",
   "id": "61d27dee",
   "metadata": {},
   "source": [
    "跳过第一项</p>\n",
    "`SELECT * FROM FilmLocations LIMIT 3 OFFSET 1;`"
   ]
  },
  {
   "cell_type": "markdown",
   "id": "7c6e6d53",
   "metadata": {},
   "source": [
    "#### DML: INSERT, UPDATE, DELETE"
   ]
  },
  {
   "cell_type": "markdown",
   "id": "d64e87b0",
   "metadata": {},
   "source": [
    "`INSERT INTO Instructor(ins_id, lastname, firstname, city, country)\n",
    "VALUES (5, 'John', 'Doe', 'Sydney', 'AU'),(6, 'Jane', 'Doe', 'Dhaka', 'BD');\n",
    "`"
   ]
  },
  {
   "cell_type": "markdown",
   "id": "513e7c79",
   "metadata": {},
   "source": [
    "`UPDATE Instructor \n",
    "SET city='Dubai' ,country='AE'\n",
    "WHERE ins_id=\"5\";`"
   ]
  },
  {
   "cell_type": "markdown",
   "id": "bd6c2e43",
   "metadata": {},
   "source": [
    "`DELETE FROM instructor\n",
    "WHERE firstname = 'Hima';`"
   ]
  },
  {
   "cell_type": "markdown",
   "id": "0b7a53a2",
   "metadata": {},
   "source": [
    "#### DDL: CREATE, INSERT, ALTER, UPDATE, TRUNCATE, DROP"
   ]
  },
  {
   "cell_type": "markdown",
   "id": "0edf10d6",
   "metadata": {},
   "source": [
    "`CREATE TABLE PETSALE (\n",
    "    ID INTEGER NOT NULL,\n",
    "    PET CHAR(20),\n",
    "    SALEPRICE DECIMAL(6,2),\n",
    "    PROFIT DECIMAL(6,2),\n",
    "    SALEDATE DATE\n",
    "    );`\n",
    "    \n",
    "`CREATE TABLE PET (\n",
    "    ID INTEGER NOT NULL,\n",
    "    ANIMAL VARCHAR(20),\n",
    "    QUANTITY INTEGER\n",
    "    );`\n",
    "    \n",
    "`INSERT INTO PETSALE VALUES\n",
    "    (1,'Cat',450.09,100.47,'2018-05-29'),\n",
    "    (2,'Dog',666.66,150.76,'2018-06-01'),\n",
    "    (3,'Parrot',50.00,8.9,'2018-06-04'),\n",
    "    (4,'Hamster',60.60,12,'2018-06-11'),\n",
    "    (5,'Goldfish',48.48,3.5,'2018-06-14');`\n",
    "    \n",
    "`INSERT INTO PET VALUES\n",
    "    (1,'Cat',3),\n",
    "    (2,'Dog',4),\n",
    "    (3,'Hamster',2);`\n",
    "\n",
    "`ALTER TABLE PETSALE\n",
    "ADD COLUMN QUANTITY INTEGER;`\n",
    "\n",
    "`UPDATE PETSALE SET QUANTITY = 9 WHERE ID = 1;\n",
    "UPDATE PETSALE SET QUANTITY = 3 WHERE ID = 2;\n",
    "UPDATE PETSALE SET QUANTITY = 2 WHERE ID = 3;\n",
    "UPDATE PETSALE SET QUANTITY = 6 WHERE ID = 4;\n",
    "UPDATE PETSALE SET QUANTITY = 24 WHERE ID = 5;`   \n",
    "\n",
    "`ALTER TABLE PETSALE\n",
    "DROP COLUMN PROFIT;`\n",
    "\n",
    "`ALTER TABLE PETSALE\n",
    "ALTER COLUMN PET SET DATA TYPE VARCHAR(20);`\n",
    "\n",
    "`ALTER TABLE PETSALE\n",
    "RENAME COLUMN PET TO ANIMAL;`\n",
    "\n",
    "`TRUNCATE TABLE PET IMMEDIATE;`\n",
    "\n",
    "`DROP TABLE PET;`\n"
   ]
  },
  {
   "cell_type": "code",
   "execution_count": null,
   "id": "a627439b",
   "metadata": {},
   "outputs": [],
   "source": []
  }
 ],
 "metadata": {
  "kernelspec": {
   "display_name": "Python 3 (ipykernel)",
   "language": "python",
   "name": "python3"
  },
  "language_info": {
   "codemirror_mode": {
    "name": "ipython",
    "version": 3
   },
   "file_extension": ".py",
   "mimetype": "text/x-python",
   "name": "python",
   "nbconvert_exporter": "python",
   "pygments_lexer": "ipython3",
   "version": "3.9.7"
  }
 },
 "nbformat": 4,
 "nbformat_minor": 5
}
