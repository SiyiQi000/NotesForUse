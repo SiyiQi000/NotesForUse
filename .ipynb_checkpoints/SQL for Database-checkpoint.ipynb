{
 "cells": [
  {
   "cell_type": "markdown",
   "id": "68a7fe07",
   "metadata": {},
   "source": [
    "#### COUNT, DISTINCT, LIMIT"
   ]
  },
  {
   "cell_type": "markdown",
   "id": "5aa6b687",
   "metadata": {},
   "source": [
    "Retrieve the number of distributors distinctly who distributed films acted by Clint Eastwood as 1st actor.</p>\n",
    "`SELECT COUNT(DISTINCT Distributor) FROM FilmLocations WHERE Actor1=\"Clint Eastwood\";`"
   ]
  },
  {
   "cell_type": "markdown",
   "id": "61d27dee",
   "metadata": {},
   "source": [
    "跳过第一项</p>\n",
    "`SELECT * FROM FilmLocations LIMIT 3 OFFSET 1;`"
   ]
  },
  {
   "cell_type": "markdown",
   "id": "7c6e6d53",
   "metadata": {},
   "source": [
    "#### INSERT, UPDATE, DELETE"
   ]
  },
  {
   "cell_type": "markdown",
   "id": "d64e87b0",
   "metadata": {},
   "source": [
    "`INSERT INTO Instructor(ins_id, lastname, firstname, city, country)\n",
    "VALUES (5, 'John', 'Doe', 'Sydney', 'AU'),(6, 'Jane', 'Doe', 'Dhaka', 'BD');\n",
    "`"
   ]
  },
  {
   "cell_type": "markdown",
   "id": "513e7c79",
   "metadata": {},
   "source": [
    "`UPDATE Instructor \n",
    "SET city='Dubai' ,country='AE'\n",
    "WHERE ins_id=\"5\";`"
   ]
  },
  {
   "cell_type": "markdown",
   "id": "bd6c2e43",
   "metadata": {},
   "source": [
    "`DELETE FROM instructor\n",
    "WHERE firstname = 'Hima';`"
   ]
  },
  {
   "cell_type": "code",
   "execution_count": null,
   "id": "6b8a2bff",
   "metadata": {},
   "outputs": [],
   "source": []
  },
  {
   "cell_type": "code",
   "execution_count": null,
   "id": "9ea34534",
   "metadata": {},
   "outputs": [],
   "source": []
  },
  {
   "cell_type": "code",
   "execution_count": null,
   "id": "a627439b",
   "metadata": {},
   "outputs": [],
   "source": []
  }
 ],
 "metadata": {
  "kernelspec": {
   "display_name": "Python 3 (ipykernel)",
   "language": "python",
   "name": "python3"
  },
  "language_info": {
   "codemirror_mode": {
    "name": "ipython",
    "version": 3
   },
   "file_extension": ".py",
   "mimetype": "text/x-python",
   "name": "python",
   "nbconvert_exporter": "python",
   "pygments_lexer": "ipython3",
   "version": "3.9.7"
  }
 },
 "nbformat": 4,
 "nbformat_minor": 5
}
