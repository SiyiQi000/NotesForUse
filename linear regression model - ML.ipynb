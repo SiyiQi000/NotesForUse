{
 "cells": [
  {
   "cell_type": "markdown",
   "id": "b1593ec2",
   "metadata": {},
   "source": [
    "# 建立模型\n",
    "## 拆分数据，3/4的数据作为训练集，1/4的数据作为测试集"
   ]
  },
  {
   "cell_type": "code",
   "execution_count": null,
   "id": "eca6cd24",
   "metadata": {},
   "outputs": [],
   "source": [
    "# from sklearn.model_selection import train_test_split\n",
    "# X_train, X_test, Y_train, Y_test = train_test_split ( X, Y, test_size = 1/4, random_state = 0)"
   ]
  },
  {
   "cell_type": "markdown",
   "id": "09d71872",
   "metadata": {},
   "source": [
    "## 用训练集的数据进行训练"
   ]
  },
  {
   "cell_type": "code",
   "execution_count": 1,
   "id": "2db152fb",
   "metadata": {},
   "outputs": [],
   "source": [
    "# from sklearn.linear_model import LinearRegression\n",
    "# regressor = LinearRegression()\n",
    "# regressor = regressor.fit(X_train, Y_train)"
   ]
  },
  {
   "cell_type": "markdown",
   "id": "efaebaec",
   "metadata": {},
   "source": [
    "## 对测试集进行预测 "
   ]
  },
  {
   "cell_type": "code",
   "execution_count": 2,
   "id": "9b234175",
   "metadata": {},
   "outputs": [],
   "source": [
    "# Y_pred = regressor.predic(X_test)"
   ]
  },
  {
   "cell_type": "markdown",
   "id": "69cac79a",
   "metadata": {},
   "source": [
    "## 可视化"
   ]
  },
  {
   "cell_type": "code",
   "execution_count": 4,
   "id": "e2fcaacc",
   "metadata": {},
   "outputs": [],
   "source": [
    "# 散点图：红色点表示训练集的点\n",
    "# plt.scatter(X_train , Y_train, color = 'red')\n",
    "# 线图：蓝色线表示由训练集训练出的线性回归模型\n",
    "# plt.plot(X_train, regressor.predict(X_train), color = 'blue')\n",
    "# plt.show()"
   ]
  },
  {
   "cell_type": "code",
   "execution_count": 5,
   "id": "c6d4c91d",
   "metadata": {},
   "outputs": [],
   "source": [
    "# 散点图：红色点表示训练集的点\n",
    "# plt.scatter(X_test , Y_test, color = 'red')\n",
    "# 线图：蓝色线表示由训练集训练出的线性回归模型\n",
    "# plt.plot(X_train, regressor.predict(X_test), color = 'blue')\n",
    "# plt.show()"
   ]
  },
  {
   "cell_type": "markdown",
   "id": "1c6e998d",
   "metadata": {},
   "source": [
    "[python数据分析神器Jupyter notebook快速入门-哔哩哔哩](https://b23.tv/6cojjD3)"
   ]
  }
 ],
 "metadata": {
  "kernelspec": {
   "display_name": "Python 3 (ipykernel)",
   "language": "python",
   "name": "python3"
  },
  "language_info": {
   "codemirror_mode": {
    "name": "ipython",
    "version": 3
   },
   "file_extension": ".py",
   "mimetype": "text/x-python",
   "name": "python",
   "nbconvert_exporter": "python",
   "pygments_lexer": "ipython3",
   "version": "3.9.7"
  }
 },
 "nbformat": 4,
 "nbformat_minor": 5
}
