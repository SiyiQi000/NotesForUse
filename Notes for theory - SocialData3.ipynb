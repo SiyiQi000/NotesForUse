{
 "cells": [
  {
   "cell_type": "markdown",
   "id": "83acb130",
   "metadata": {},
   "source": [
    "### automated browsing and regular expressions\n",
    "<p>target website: www.nboard.dk </p>\n",
    "\n",
    "browse the site for potential board members.do this automatically with `Selenium`"
   ]
  },
  {
   "cell_type": "code",
   "execution_count": 19,
   "id": "c53a8451",
   "metadata": {
    "scrolled": true
   },
   "outputs": [],
   "source": [
    "from selenium import webdriver\n",
    "from webdriver_manager.chrome import ChromeDriverManager"
   ]
  },
  {
   "cell_type": "code",
   "execution_count": 20,
   "id": "41d5f01f",
   "metadata": {
    "scrolled": true
   },
   "outputs": [
    {
     "name": "stderr",
     "output_type": "stream",
     "text": [
      "C:\\Users\\dell\\AppData\\Local\\Temp/ipykernel_18756/315452120.py:2: DeprecationWarning: executable_path has been deprecated, please pass in a Service object\n",
      "  driver = webdriver.Chrome(ChromeDriverManager().install())\n"
     ]
    }
   ],
   "source": [
    "url = 'https://nboard.dk/search'\n",
    "driver = webdriver.Chrome(ChromeDriverManager().install())\n",
    "driver.get(url)"
   ]
  },
  {
   "cell_type": "code",
   "execution_count": 21,
   "id": "ff807e5f",
   "metadata": {},
   "outputs": [],
   "source": [
    "from selenium.webdriver.common.by import By\n",
    "cookie = driver.find_element(By.CSS_SELECTOR, '.cc-dismiss') #Here we use a CSS selector\n",
    "cookie.click()"
   ]
  },
  {
   "cell_type": "code",
   "execution_count": 25,
   "id": "5bae01ae",
   "metadata": {},
   "outputs": [],
   "source": [
    "boardmember = driver.find_element(\"id\",\"mat-checkbox-2\") #Here we use the id attribute to find the boardmember box\n",
    "boardmember.click()"
   ]
  },
  {
   "cell_type": "code",
   "execution_count": 28,
   "id": "e50d8848",
   "metadata": {},
   "outputs": [],
   "source": [
    "import time\n",
    "\n",
    "for i in range(5): #We scroll down 5 times and sleep for 3 seconds each time to wait for the webpage to load\n",
    "    driver.execute_script(\"window.scrollTo(0, document.body.scrollHeight);\") #Execute JavaScript on the browser that scroll down page\n",
    "    time.sleep(3)"
   ]
  },
  {
   "cell_type": "code",
   "execution_count": 30,
   "id": "57caeca8",
   "metadata": {},
   "outputs": [],
   "source": [
    "# Find the place to type in search text\n",
    "candidate = driver.find_element(\"id\",\"mat-input-4\")\n",
    "candidate.click() #And click\n",
    "# Type the search text\n",
    "candidate.send_keys('Hansen') #Use the `.send_keys` to type text. `.send_keys` imitates your computer keyboard"
   ]
  },
  {
   "cell_type": "code",
   "execution_count": 34,
   "id": "9daf5f39",
   "metadata": {},
   "outputs": [
    {
     "name": "stdout",
     "output_type": "stream",
     "text": [
      "[<span _ngcontent-c10=\"\" class=\"ng-tns-c10-0\" style=\"font-size: 15px;\">Minimum bestyrelseserfaring: 0 år</span>, <span _ngcontent-c10=\"\" class=\"ng-tns-c10-0\" style=\"font-size: 12px; margin-bottom: 20px;\">Vælg din virksomhed nedenfor, så finder vi kandidater med erfaring fra samme branche</span>, <span _ngcontent-c10=\"\" class=\"ng-tns-c10-0\" style=\"font-size: 15px;\">Minimum bestyrelseserfaring: 0 år</span>, <span _ngcontent-c10=\"\" class=\"ng-tns-c10-0\" style=\"margin-right: 10px;\">Begrænset adgang - <a _ngcontent-c10=\"\" class=\"ng-tns-c10-0\" href=\"/authentication/signup\" routerlink=\"/authentication/signup\">Opret en <b _ngcontent-c10=\"\" class=\"ng-tns-c10-0\">gratis</b> bruger</a> eller <a _ngcontent-c10=\"\" class=\"ng-tns-c10-0\" href=\"/authentication/login\" routerlink=\"/authentication/login\">log ind</a> for at få fuld adgang</span>, <span _ngcontent-c10=\"\" class=\"ng-tns-c10-0\"><b _ngcontent-c10=\"\" class=\"ng-tns-c10-0\">Antal resultater:</b> 105 | <b _ngcontent-c10=\"\" class=\"ng-tns-c10-0\">Sortering:</b> Mest relevante først.</span>]\n",
      "\n",
      "<span _ngcontent-c10=\"\" class=\"ng-tns-c10-0\"><b _ngcontent-c10=\"\" class=\"ng-tns-c10-0\">Antal resultater:</b> 105 | <b _ngcontent-c10=\"\" class=\"ng-tns-c10-0\">Sortering:</b> Mest relevante først.</span>\n"
     ]
    },
    {
     "data": {
      "text/plain": [
       "'Antal resultater: 105 | Sortering: Mest relevante først.'"
      ]
     },
     "execution_count": 34,
     "metadata": {},
     "output_type": "execute_result"
    }
   ],
   "source": [
    "from bs4 import BeautifulSoup\n",
    "\n",
    "soup = BeautifulSoup(driver.page_source, 'lxml') #The Selenium Driver keeps the HTML in the `.page_source` property\n",
    "\n",
    "# Find the place where the number of profiles is shown\n",
    "results = soup.find_all('span', class_ = \"ng-tns-c10-0\")\n",
    "print(results)\n",
    "results = results[4] #More elements matches the search, so we take the number of profiles element only 结果数量存储在[4]，我也不知道为什么\n",
    "print()\n",
    "print(results)\n",
    "\n",
    "# We only want the text content of the HTML\n",
    "profiles = results.text #We take the text\n",
    "profiles"
   ]
  },
  {
   "cell_type": "code",
   "execution_count": 45,
   "id": "b908b7ee",
   "metadata": {},
   "outputs": [
    {
     "name": "stdout",
     "output_type": "stream",
     "text": [
      "<re.Match object; span=(18, 21), match='105'>\n",
      "<class 're.Match'>\n",
      "105\n"
     ]
    }
   ],
   "source": [
    "import re\n",
    "number_profiles = re.search(r'\\d+', profiles)\n",
    "'''\n",
    "The '\\d' searches for digits in the string, and the '+' tells regex to search for all digits. \n",
    "The 'r' in the front of the string makes the string into a raw string; \n",
    "it means that for example \\n (new line) is not interpreted as new line, but is just seen as '\\n'.\n",
    "'''\n",
    "print(number_profiles)\n",
    "print(type(number_profiles))\n",
    "number_profiles = number_profiles.group()\n",
    "'''\n",
    "group方法返回一个或者多个匹配的子组。 如果只有一个参数，结果就是一个字符串，如果有多个参数，\n",
    "结果就是一个元组（每个参数对应一个项），如果没有参数，整个匹配都被返回。 如果一个参数值为0，即是group. \n",
    "\n",
    "# 不知道为什么返回的是105\n",
    "'''\n",
    "print(number_profiles)"
   ]
  },
  {
   "cell_type": "markdown",
   "id": "2a05e2df",
   "metadata": {},
   "source": [
    "## Regex - regular expression\n",
    "### See more in this [tutorial](https://www.digitalocean.com/community/tutorials/an-introduction-to-regex-in-python) and this [guide](https://www.regular-expressions.info/refquick.html)\n",
    "* \\+ = 1 or more times  -- e.g. \"a+\" will match: \"a\", and \"aaa\"\n",
    "* \\* = 0 or more times  -- e.g. \"ba*\" will match: \"b\", and \"ba\", and \"baaa\"\n",
    "* {3} = exactly three times --- e.g. \"ba{3}\" will match \"baaa\", but not \"baa\"\n",
    "* ? = once or none\n",
    "* \\\\ = escape character, used to find characters that has special meaning with regex: e.g. \\+ \\*\n",
    "* [] = allows you to define a set of characters\n",
    "* () = groups a part of the regular expression\n",
    "* ^ = applied within a set, it becomes the inverse of the set defined. Applied outside a set it entails the beginning of a string. $ entails the end of a string.\n",
    "* . = any characters except line break\n",
    "* | = or statement. -- e.g. a|b means find characters a or b.\n",
    "* \\d = digits\n",
    "* \\D = non-digits.\n",
    "* \\s = whitespace-separator\n",
    "* \\w = matches alphanumeric character [a-zA-Z0-9_]\n",
    "* \\W = matches any non-alphanumeric character [^a-zA-Z0-9]\n",
    "\n",
    "Sequences\n",
    "* (?:) = Defines a Non-capturing group. -- e.g. \"(?:abc)+\", will match \"abc\" and \"abcabcabc\", but not \"aabbcc\"\n",
    "* (?=)\t= Positive lookahead - only match a certain pattern if a certain pattern comes after it.\n",
    "* (?!)\t= Negative lookahead - only match a certain pattern if **not** a certain pattern comes after it.\n",
    "* (?<=)\t= Positive lookbehind - only match a certain pattern if a certain pattern precedes it.\n",
    "* (?<!) = Negative lookbehind - only match a certain pattern if **not** a certain pattern precedes it."
   ]
  },
  {
   "cell_type": "code",
   "execution_count": 47,
   "id": "d5f20113",
   "metadata": {},
   "outputs": [
    {
     "data": {
      "text/plain": [
       "'Gazprom halverer gasleverancerne til Europa via Nord Stream 1. Årsagen er ifølge selskabet vedligehold af en gasturbine. Den daglige gasforsyning via gasledningen vil fra onsdag morgen blive reduceret til 33 millioner kubikmeter, oplyser Gazprom.Det svarer til cirka 20 procent af den maksimale kapacitet, og det fremgår ikke, hvor længe den yderligt reducerede forsyning af gas vil stå på.Den tyske regering anser den forklaringen om vedligeholdelse for at være opfundet til lejligheden.- Ifølge vores oplysninger er der ingen teknisk grund til en reduktion i leverancerne, siger en talskvinde for Finansministeriet og minister Robert Habeck til Frankfurter Allgemeine Zeitung.Tyskerne får 25 procent af deres energi fra gas, hvor en overvejende del er kommet fra Rusland.Gasprisen stiger med 10 procentDet er anden gang indenfor en uge, at Gazprom reducerer leverancen af gas under påskud af reperation af gasturbiner. Da Gazprom efter ti dages vedligehold i sidste uge genåbnede for gasforsyningen til Tyskland, var meldingen, at der dagligt ville blive leveret cirka 67 millioner kubikmeter.Gazproms seneste melding betyder altså, at leverancerne til Europa bliver omtrent halveret fra onsdag. Gasledningen kan, når den kører for fuld kraft, levere cirka 167 millioner kubikmeter gas om dagen.Nordstream 1-faciliter i Lubmin i Tyskland. (Foto:\\xa0HANNIBAL HANSCHKE ©\\xa0Ritzau Scanpix)'"
      ]
     },
     "execution_count": 47,
     "metadata": {},
     "output_type": "execute_result"
    }
   ],
   "source": [
    "text = 'Gazprom halverer gasleverancerne til Europa via Nord Stream 1. Årsagen er ifølge selskabet vedligehold af en gasturbine. Den daglige gasforsyning via gasledningen vil fra onsdag morgen blive reduceret til 33 millioner kubikmeter, oplyser Gazprom.Det svarer til cirka 20 procent af den maksimale kapacitet, og det fremgår ikke, hvor længe den yderligt reducerede forsyning af gas vil stå på.Den tyske regering anser den forklaringen om vedligeholdelse for at være opfundet til lejligheden.- Ifølge vores oplysninger er der ingen teknisk grund til en reduktion i leverancerne, siger en talskvinde for Finansministeriet og minister Robert Habeck til Frankfurter Allgemeine Zeitung.Tyskerne får 25 procent af deres energi fra gas, hvor en overvejende del er kommet fra Rusland.Gasprisen stiger med 10 procentDet er anden gang indenfor en uge, at Gazprom reducerer leverancen af gas under påskud af reperation af gasturbiner. Da Gazprom efter ti dages vedligehold i sidste uge genåbnede for gasforsyningen til Tyskland, var meldingen, at der dagligt ville blive leveret cirka 67 millioner kubikmeter.Gazproms seneste melding betyder altså, at leverancerne til Europa bliver omtrent halveret fra onsdag. Gasledningen kan, når den kører for fuld kraft, levere cirka 167 millioner kubikmeter gas om dagen.Nordstream 1-faciliter i Lubmin i Tyskland. (Foto:\\xa0HANNIBAL HANSCHKE ©\\xa0Ritzau Scanpix)'\n",
    "text"
   ]
  },
  {
   "cell_type": "code",
   "execution_count": 50,
   "id": "d7a42717",
   "metadata": {},
   "outputs": [
    {
     "name": "stdout",
     "output_type": "stream",
     "text": [
      "1\n"
     ]
    },
    {
     "data": {
      "text/plain": [
       "['1', '33', '20', '25', '10', '67', '167', '1']"
      ]
     },
     "execution_count": 50,
     "metadata": {},
     "output_type": "execute_result"
    }
   ],
   "source": [
    "import re\n",
    "first_digit = re.search(r'\\d+', text)  # search 找第一个\n",
    "print(first_digit.group()) #group() returns the matched string\n",
    "all_digits = re.findall(r'\\d+', text)  # findall 找全部\n",
    "all_digits"
   ]
  },
  {
   "cell_type": "code",
   "execution_count": 51,
   "id": "fb27a247",
   "metadata": {},
   "outputs": [
    {
     "data": {
      "text/plain": [
       "['33 millioner', '67 millioner', '167 millioner']"
      ]
     },
     "execution_count": 51,
     "metadata": {},
     "output_type": "execute_result"
    }
   ],
   "source": [
    "millioner = re.findall(r'\\d+ millioner', text) \n",
    "millioner"
   ]
  },
  {
   "cell_type": "code",
   "execution_count": 55,
   "id": "14126628",
   "metadata": {},
   "outputs": [
    {
     "data": {
      "text/plain": [
       "['- Ifølge vores oplysninger er der ingen teknisk grund til en reduktion i leverancerne,']"
      ]
     },
     "execution_count": 55,
     "metadata": {},
     "output_type": "execute_result"
    }
   ],
   "source": [
    "quote = re.findall(r'- [\\w ]+,', text) \n",
    "quote"
   ]
  },
  {
   "cell_type": "code",
   "execution_count": 62,
   "id": "64c89ff2",
   "metadata": {},
   "outputs": [
    {
     "data": {
      "text/plain": [
       "['(Foto:\\xa0HANNIBAL HANSCHKE ©\\xa0Ritzau Scanpix)']"
      ]
     },
     "execution_count": 62,
     "metadata": {},
     "output_type": "execute_result"
    }
   ],
   "source": [
    "photo = re.findall(r'\\(.+\\)', text)\n",
    "photo"
   ]
  },
  {
   "cell_type": "code",
   "execution_count": 75,
   "id": "faf5dca6",
   "metadata": {},
   "outputs": [
    {
     "data": {
      "text/plain": [
       "['Gazprom halverer gasleverancerne til Europa via Nord Stream 1',\n",
       " ' Årsagen er ifølge selskabet vedligehold af en gasturbine',\n",
       " ' Den daglige gasforsyning via gasledningen vil fra onsdag morgen blive reduceret til 33 millioner kubikmeter, oplyser Gazprom',\n",
       " 'Det svarer til cirka 20 procent af den maksimale kapacitet, og det fremgår ikke, hvor længe den yderligt reducerede forsyning af gas vil stå på',\n",
       " 'Den tyske regering anser den forklaringen om vedligeholdelse for at være opfundet til lejligheden',\n",
       " '- Ifølge vores oplysninger er der ingen teknisk grund til en reduktion i leverancerne, siger en talskvinde for Finansministeriet og minister Robert Habeck til Frankfurter Allgemeine Zeitung',\n",
       " 'Tyskerne får 25 procent af deres energi fra gas, hvor en overvejende del er kommet fra Rusland',\n",
       " 'Gasprisen stiger med 10 procentDet er anden gang indenfor en uge, at Gazprom reducerer leverancen af gas under påskud af reperation af gasturbiner',\n",
       " ' Da Gazprom efter ti dages vedligehold i sidste uge genåbnede for gasforsyningen til Tyskland, var meldingen, at der dagligt ville blive leveret cirka 67 millioner kubikmeter',\n",
       " 'Gazproms seneste melding betyder altså, at leverancerne til Europa bliver omtrent halveret fra onsdag',\n",
       " ' Gasledningen kan, når den kører for fuld kraft, levere cirka 167 millioner kubikmeter gas om dagen',\n",
       " 'Nordstream 1-faciliter i Lubmin i Tyskland',\n",
       " ' (Foto:\\xa0HANNIBAL HANSCHKE ©\\xa0Ritzau Scanpix)']"
      ]
     },
     "execution_count": 75,
     "metadata": {},
     "output_type": "execute_result"
    }
   ],
   "source": [
    "sentences = re.split(r'\\.',text) #Remember that \".\" is a special character in regex, so we need to escape it with \"\\\"\n",
    "sentences"
   ]
  }
 ],
 "metadata": {
  "kernelspec": {
   "display_name": "Python 3 (ipykernel)",
   "language": "python",
   "name": "python3"
  },
  "language_info": {
   "codemirror_mode": {
    "name": "ipython",
    "version": 3
   },
   "file_extension": ".py",
   "mimetype": "text/x-python",
   "name": "python",
   "nbconvert_exporter": "python",
   "pygments_lexer": "ipython3",
   "version": "3.9.7"
  }
 },
 "nbformat": 4,
 "nbformat_minor": 5
}
