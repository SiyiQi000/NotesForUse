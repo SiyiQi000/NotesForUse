{
 "cells": [
  {
   "cell_type": "markdown",
   "id": "c75cc4c5",
   "metadata": {},
   "source": [
    "## Machine Learning intro\n",
    "- Supervised learning\n",
    "  - Models designed to infer a relationship between input and **labeled** data.      \n",
    "  - We define the **target** as labels in data that we wish to model (e.g.  population as a function of year)</p>\n",
    "- Unsupervised learning\n",
    "  - Find patterns and relationships from **unlabeled** data \n",
    "  - This may involve clustering (e.g. group objects that share certain degree of similarity), dimensionality reduction and more.  \n",
    "  - *Not part of the course*.</p>\n",
    "- Reinforcement learning\n",
    "  - Models to infer optimal behavior in some (potentially) mathematically unknown environment\n",
    "  - Needs no labeling, and suboptimal behavior is corrected through experience (penalty/reward).\n",
    "  - *Not part of the course*."
   ]
  },
  {
   "cell_type": "code",
   "execution_count": null,
   "id": "435dd451",
   "metadata": {},
   "outputs": [],
   "source": []
  },
  {
   "cell_type": "code",
   "execution_count": null,
   "id": "67f52721",
   "metadata": {},
   "outputs": [],
   "source": []
  },
  {
   "cell_type": "code",
   "execution_count": null,
   "id": "2d8139aa",
   "metadata": {},
   "outputs": [],
   "source": []
  },
  {
   "cell_type": "code",
   "execution_count": null,
   "id": "741eacbd",
   "metadata": {},
   "outputs": [],
   "source": []
  }
 ],
 "metadata": {
  "kernelspec": {
   "display_name": "Python 3 (ipykernel)",
   "language": "python",
   "name": "python3"
  },
  "language_info": {
   "codemirror_mode": {
    "name": "ipython",
    "version": 3
   },
   "file_extension": ".py",
   "mimetype": "text/x-python",
   "name": "python",
   "nbconvert_exporter": "python",
   "pygments_lexer": "ipython3",
   "version": "3.9.7"
  }
 },
 "nbformat": 4,
 "nbformat_minor": 5
}
